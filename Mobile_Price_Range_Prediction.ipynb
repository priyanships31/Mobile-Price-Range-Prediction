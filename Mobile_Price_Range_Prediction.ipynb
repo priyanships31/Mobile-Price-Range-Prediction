{
  "nbformat": 4,
  "nbformat_minor": 0,
  "metadata": {
    "colab": {
      "name": "Mobile Price Range Prediction.ipynb",
      "provenance": [],
      "collapsed_sections": [
        "ylQR9acCs4f0",
        "ZVBvLsnjtLdE",
        "bOdkKU0PtPQt",
        "H2ISLrfytTYY",
        "oDMgu-o5tWXB",
        "AnZpuFatv3nT",
        "L6jf0FpF0FST",
        "iVnNPJc61jsP",
        "j73uN-VwyR02",
        "4p4npoLEm8y1"
      ],
      "mount_file_id": "1pP8Fe25I7zJJ4FL1PE2SKi1p2nVxdop7",
      "authorship_tag": "ABX9TyNOIDPB2gQ2k5QKpR3cd+1j",
      "include_colab_link": true
    },
    "kernelspec": {
      "display_name": "Python 3",
      "name": "python3"
    },
    "language_info": {
      "name": "python"
    }
  },
  "cells": [
    {
      "cell_type": "markdown",
      "metadata": {
        "id": "view-in-github",
        "colab_type": "text"
      },
      "source": [
        "<a href=\"https://colab.research.google.com/github/priyanships31/Mobile-Price-Range-Prediction/blob/main/Mobile_Price_Range_Prediction.ipynb\" target=\"_parent\"><img src=\"https://colab.research.google.com/assets/colab-badge.svg\" alt=\"Open In Colab\"/></a>"
      ]
    },
    {
      "cell_type": "code",
      "metadata": {
        "id": "53PN3eeUQeeg"
      },
      "source": [
        "import pandas as pd\n",
        "import numpy as np\n",
        "import seaborn as sns\n",
        "import matplotlib.pyplot as plt\n",
        "import plotly.graph_objs as go\n",
        "import plotly.offline as py\n",
        "from sklearn.model_selection import train_test_split, GridSearchCV, cross_val_score,RepeatedStratifiedKFold,RandomizedSearchCV, KFold\n",
        "from sklearn.linear_model import LogisticRegression\n",
        "from sklearn.neighbors import KNeighborsClassifier\n",
        "from sklearn.metrics import confusion_matrix, accuracy_score, roc_curve, roc_auc_score, recall_score, f1_score,classification_report\n",
        "from sklearn.tree import DecisionTreeClassifier\n",
        "from lightgbm import LGBMClassifier\n",
        "from sklearn.ensemble import RandomForestClassifier\n",
        "from sklearn.preprocessing import StandardScaler, MinMaxScaler\n",
        "from sklearn.pipeline import make_pipeline\n",
        "from sklearn.decomposition import PCA\n",
        "%matplotlib inline\n",
        "from itertools import combinations\n",
        "import matplotlib.pyplot as plt\n",
        "from statsmodels.stats.outliers_influence import variance_inflation_factor\n",
        "from sklearn.model_selection import train_test_split\n",
        "from sklearn.feature_selection import SelectKBest\n",
        "from sklearn.feature_selection import f_classif\n",
        "from matplotlib import pyplot\n",
        " "
      ],
      "execution_count": 395,
      "outputs": []
    },
    {
      "cell_type": "code",
      "metadata": {
        "id": "dMV2CPi0xahN"
      },
      "source": [
        "# !pip install matplotlib"
      ],
      "execution_count": 396,
      "outputs": []
    },
    {
      "cell_type": "code",
      "metadata": {
        "id": "jC9j-lLrPweW"
      },
      "source": [
        "df = pd.read_csv('/content/drive/MyDrive/AlmaBetter/Cohort Nilgiri/Module 4/Capstone Project/data_mobile_price_range.csv')"
      ],
      "execution_count": 397,
      "outputs": []
    },
    {
      "cell_type": "code",
      "metadata": {
        "colab": {
          "base_uri": "https://localhost:8080/",
          "height": 218
        },
        "id": "pn6w5qSm3Gyh",
        "outputId": "5f87123f-2e00-48c9-c120-f1d59d118991"
      },
      "source": [
        "\n",
        "df.head()"
      ],
      "execution_count": 398,
      "outputs": [
        {
          "output_type": "execute_result",
          "data": {
            "text/html": [
              "<div>\n",
              "<style scoped>\n",
              "    .dataframe tbody tr th:only-of-type {\n",
              "        vertical-align: middle;\n",
              "    }\n",
              "\n",
              "    .dataframe tbody tr th {\n",
              "        vertical-align: top;\n",
              "    }\n",
              "\n",
              "    .dataframe thead th {\n",
              "        text-align: right;\n",
              "    }\n",
              "</style>\n",
              "<table border=\"1\" class=\"dataframe\">\n",
              "  <thead>\n",
              "    <tr style=\"text-align: right;\">\n",
              "      <th></th>\n",
              "      <th>battery_power</th>\n",
              "      <th>blue</th>\n",
              "      <th>clock_speed</th>\n",
              "      <th>dual_sim</th>\n",
              "      <th>fc</th>\n",
              "      <th>four_g</th>\n",
              "      <th>int_memory</th>\n",
              "      <th>m_dep</th>\n",
              "      <th>mobile_wt</th>\n",
              "      <th>n_cores</th>\n",
              "      <th>pc</th>\n",
              "      <th>px_height</th>\n",
              "      <th>px_width</th>\n",
              "      <th>ram</th>\n",
              "      <th>sc_h</th>\n",
              "      <th>sc_w</th>\n",
              "      <th>talk_time</th>\n",
              "      <th>three_g</th>\n",
              "      <th>touch_screen</th>\n",
              "      <th>wifi</th>\n",
              "      <th>price_range</th>\n",
              "    </tr>\n",
              "  </thead>\n",
              "  <tbody>\n",
              "    <tr>\n",
              "      <th>0</th>\n",
              "      <td>842</td>\n",
              "      <td>0</td>\n",
              "      <td>2.2</td>\n",
              "      <td>0</td>\n",
              "      <td>1</td>\n",
              "      <td>0</td>\n",
              "      <td>7</td>\n",
              "      <td>0.6</td>\n",
              "      <td>188</td>\n",
              "      <td>2</td>\n",
              "      <td>2</td>\n",
              "      <td>20</td>\n",
              "      <td>756</td>\n",
              "      <td>2549</td>\n",
              "      <td>9</td>\n",
              "      <td>7</td>\n",
              "      <td>19</td>\n",
              "      <td>0</td>\n",
              "      <td>0</td>\n",
              "      <td>1</td>\n",
              "      <td>1</td>\n",
              "    </tr>\n",
              "    <tr>\n",
              "      <th>1</th>\n",
              "      <td>1021</td>\n",
              "      <td>1</td>\n",
              "      <td>0.5</td>\n",
              "      <td>1</td>\n",
              "      <td>0</td>\n",
              "      <td>1</td>\n",
              "      <td>53</td>\n",
              "      <td>0.7</td>\n",
              "      <td>136</td>\n",
              "      <td>3</td>\n",
              "      <td>6</td>\n",
              "      <td>905</td>\n",
              "      <td>1988</td>\n",
              "      <td>2631</td>\n",
              "      <td>17</td>\n",
              "      <td>3</td>\n",
              "      <td>7</td>\n",
              "      <td>1</td>\n",
              "      <td>1</td>\n",
              "      <td>0</td>\n",
              "      <td>2</td>\n",
              "    </tr>\n",
              "    <tr>\n",
              "      <th>2</th>\n",
              "      <td>563</td>\n",
              "      <td>1</td>\n",
              "      <td>0.5</td>\n",
              "      <td>1</td>\n",
              "      <td>2</td>\n",
              "      <td>1</td>\n",
              "      <td>41</td>\n",
              "      <td>0.9</td>\n",
              "      <td>145</td>\n",
              "      <td>5</td>\n",
              "      <td>6</td>\n",
              "      <td>1263</td>\n",
              "      <td>1716</td>\n",
              "      <td>2603</td>\n",
              "      <td>11</td>\n",
              "      <td>2</td>\n",
              "      <td>9</td>\n",
              "      <td>1</td>\n",
              "      <td>1</td>\n",
              "      <td>0</td>\n",
              "      <td>2</td>\n",
              "    </tr>\n",
              "    <tr>\n",
              "      <th>3</th>\n",
              "      <td>615</td>\n",
              "      <td>1</td>\n",
              "      <td>2.5</td>\n",
              "      <td>0</td>\n",
              "      <td>0</td>\n",
              "      <td>0</td>\n",
              "      <td>10</td>\n",
              "      <td>0.8</td>\n",
              "      <td>131</td>\n",
              "      <td>6</td>\n",
              "      <td>9</td>\n",
              "      <td>1216</td>\n",
              "      <td>1786</td>\n",
              "      <td>2769</td>\n",
              "      <td>16</td>\n",
              "      <td>8</td>\n",
              "      <td>11</td>\n",
              "      <td>1</td>\n",
              "      <td>0</td>\n",
              "      <td>0</td>\n",
              "      <td>2</td>\n",
              "    </tr>\n",
              "    <tr>\n",
              "      <th>4</th>\n",
              "      <td>1821</td>\n",
              "      <td>1</td>\n",
              "      <td>1.2</td>\n",
              "      <td>0</td>\n",
              "      <td>13</td>\n",
              "      <td>1</td>\n",
              "      <td>44</td>\n",
              "      <td>0.6</td>\n",
              "      <td>141</td>\n",
              "      <td>2</td>\n",
              "      <td>14</td>\n",
              "      <td>1208</td>\n",
              "      <td>1212</td>\n",
              "      <td>1411</td>\n",
              "      <td>8</td>\n",
              "      <td>2</td>\n",
              "      <td>15</td>\n",
              "      <td>1</td>\n",
              "      <td>1</td>\n",
              "      <td>0</td>\n",
              "      <td>1</td>\n",
              "    </tr>\n",
              "  </tbody>\n",
              "</table>\n",
              "</div>"
            ],
            "text/plain": [
              "   battery_power  blue  clock_speed  ...  touch_screen  wifi  price_range\n",
              "0            842     0          2.2  ...             0     1            1\n",
              "1           1021     1          0.5  ...             1     0            2\n",
              "2            563     1          0.5  ...             1     0            2\n",
              "3            615     1          2.5  ...             0     0            2\n",
              "4           1821     1          1.2  ...             1     0            1\n",
              "\n",
              "[5 rows x 21 columns]"
            ]
          },
          "metadata": {
            "tags": []
          },
          "execution_count": 398
        }
      ]
    },
    {
      "cell_type": "markdown",
      "metadata": {
        "id": "l_TumGkBrMkH"
      },
      "source": [
        "### From the data we see that some values are categorical in nature such as blue,dual_sim,four_g,three_g, touch_screen, wifi represented as 0 and 1"
      ]
    },
    {
      "cell_type": "code",
      "metadata": {
        "colab": {
          "base_uri": "https://localhost:8080/"
        },
        "id": "4clbLqe83McP",
        "outputId": "b5401ce3-1529-4dd1-c620-1a8cd26c5d3c"
      },
      "source": [
        "df.info()"
      ],
      "execution_count": 399,
      "outputs": [
        {
          "output_type": "stream",
          "text": [
            "<class 'pandas.core.frame.DataFrame'>\n",
            "RangeIndex: 2000 entries, 0 to 1999\n",
            "Data columns (total 21 columns):\n",
            " #   Column         Non-Null Count  Dtype  \n",
            "---  ------         --------------  -----  \n",
            " 0   battery_power  2000 non-null   int64  \n",
            " 1   blue           2000 non-null   int64  \n",
            " 2   clock_speed    2000 non-null   float64\n",
            " 3   dual_sim       2000 non-null   int64  \n",
            " 4   fc             2000 non-null   int64  \n",
            " 5   four_g         2000 non-null   int64  \n",
            " 6   int_memory     2000 non-null   int64  \n",
            " 7   m_dep          2000 non-null   float64\n",
            " 8   mobile_wt      2000 non-null   int64  \n",
            " 9   n_cores        2000 non-null   int64  \n",
            " 10  pc             2000 non-null   int64  \n",
            " 11  px_height      2000 non-null   int64  \n",
            " 12  px_width       2000 non-null   int64  \n",
            " 13  ram            2000 non-null   int64  \n",
            " 14  sc_h           2000 non-null   int64  \n",
            " 15  sc_w           2000 non-null   int64  \n",
            " 16  talk_time      2000 non-null   int64  \n",
            " 17  three_g        2000 non-null   int64  \n",
            " 18  touch_screen   2000 non-null   int64  \n",
            " 19  wifi           2000 non-null   int64  \n",
            " 20  price_range    2000 non-null   int64  \n",
            "dtypes: float64(2), int64(19)\n",
            "memory usage: 328.2 KB\n"
          ],
          "name": "stdout"
        }
      ]
    },
    {
      "cell_type": "code",
      "metadata": {
        "colab": {
          "base_uri": "https://localhost:8080/"
        },
        "id": "ipmwLggC2cLM",
        "outputId": "70178b90-a618-4ce7-fc67-cb732475031c"
      },
      "source": [
        "df.isnull().sum()"
      ],
      "execution_count": 400,
      "outputs": [
        {
          "output_type": "execute_result",
          "data": {
            "text/plain": [
              "battery_power    0\n",
              "blue             0\n",
              "clock_speed      0\n",
              "dual_sim         0\n",
              "fc               0\n",
              "four_g           0\n",
              "int_memory       0\n",
              "m_dep            0\n",
              "mobile_wt        0\n",
              "n_cores          0\n",
              "pc               0\n",
              "px_height        0\n",
              "px_width         0\n",
              "ram              0\n",
              "sc_h             0\n",
              "sc_w             0\n",
              "talk_time        0\n",
              "three_g          0\n",
              "touch_screen     0\n",
              "wifi             0\n",
              "price_range      0\n",
              "dtype: int64"
            ]
          },
          "metadata": {
            "tags": []
          },
          "execution_count": 400
        }
      ]
    },
    {
      "cell_type": "code",
      "metadata": {
        "colab": {
          "base_uri": "https://localhost:8080/",
          "height": 678
        },
        "id": "sYJlnjr922tx",
        "outputId": "15abd8eb-12c0-44c3-9524-1d45f573db9a"
      },
      "source": [
        "df.describe().T"
      ],
      "execution_count": 401,
      "outputs": [
        {
          "output_type": "execute_result",
          "data": {
            "text/html": [
              "<div>\n",
              "<style scoped>\n",
              "    .dataframe tbody tr th:only-of-type {\n",
              "        vertical-align: middle;\n",
              "    }\n",
              "\n",
              "    .dataframe tbody tr th {\n",
              "        vertical-align: top;\n",
              "    }\n",
              "\n",
              "    .dataframe thead th {\n",
              "        text-align: right;\n",
              "    }\n",
              "</style>\n",
              "<table border=\"1\" class=\"dataframe\">\n",
              "  <thead>\n",
              "    <tr style=\"text-align: right;\">\n",
              "      <th></th>\n",
              "      <th>count</th>\n",
              "      <th>mean</th>\n",
              "      <th>std</th>\n",
              "      <th>min</th>\n",
              "      <th>25%</th>\n",
              "      <th>50%</th>\n",
              "      <th>75%</th>\n",
              "      <th>max</th>\n",
              "    </tr>\n",
              "  </thead>\n",
              "  <tbody>\n",
              "    <tr>\n",
              "      <th>battery_power</th>\n",
              "      <td>2000.0</td>\n",
              "      <td>1238.51850</td>\n",
              "      <td>439.418206</td>\n",
              "      <td>501.0</td>\n",
              "      <td>851.75</td>\n",
              "      <td>1226.0</td>\n",
              "      <td>1615.25</td>\n",
              "      <td>1998.0</td>\n",
              "    </tr>\n",
              "    <tr>\n",
              "      <th>blue</th>\n",
              "      <td>2000.0</td>\n",
              "      <td>0.49500</td>\n",
              "      <td>0.500100</td>\n",
              "      <td>0.0</td>\n",
              "      <td>0.00</td>\n",
              "      <td>0.0</td>\n",
              "      <td>1.00</td>\n",
              "      <td>1.0</td>\n",
              "    </tr>\n",
              "    <tr>\n",
              "      <th>clock_speed</th>\n",
              "      <td>2000.0</td>\n",
              "      <td>1.52225</td>\n",
              "      <td>0.816004</td>\n",
              "      <td>0.5</td>\n",
              "      <td>0.70</td>\n",
              "      <td>1.5</td>\n",
              "      <td>2.20</td>\n",
              "      <td>3.0</td>\n",
              "    </tr>\n",
              "    <tr>\n",
              "      <th>dual_sim</th>\n",
              "      <td>2000.0</td>\n",
              "      <td>0.50950</td>\n",
              "      <td>0.500035</td>\n",
              "      <td>0.0</td>\n",
              "      <td>0.00</td>\n",
              "      <td>1.0</td>\n",
              "      <td>1.00</td>\n",
              "      <td>1.0</td>\n",
              "    </tr>\n",
              "    <tr>\n",
              "      <th>fc</th>\n",
              "      <td>2000.0</td>\n",
              "      <td>4.30950</td>\n",
              "      <td>4.341444</td>\n",
              "      <td>0.0</td>\n",
              "      <td>1.00</td>\n",
              "      <td>3.0</td>\n",
              "      <td>7.00</td>\n",
              "      <td>19.0</td>\n",
              "    </tr>\n",
              "    <tr>\n",
              "      <th>four_g</th>\n",
              "      <td>2000.0</td>\n",
              "      <td>0.52150</td>\n",
              "      <td>0.499662</td>\n",
              "      <td>0.0</td>\n",
              "      <td>0.00</td>\n",
              "      <td>1.0</td>\n",
              "      <td>1.00</td>\n",
              "      <td>1.0</td>\n",
              "    </tr>\n",
              "    <tr>\n",
              "      <th>int_memory</th>\n",
              "      <td>2000.0</td>\n",
              "      <td>32.04650</td>\n",
              "      <td>18.145715</td>\n",
              "      <td>2.0</td>\n",
              "      <td>16.00</td>\n",
              "      <td>32.0</td>\n",
              "      <td>48.00</td>\n",
              "      <td>64.0</td>\n",
              "    </tr>\n",
              "    <tr>\n",
              "      <th>m_dep</th>\n",
              "      <td>2000.0</td>\n",
              "      <td>0.50175</td>\n",
              "      <td>0.288416</td>\n",
              "      <td>0.1</td>\n",
              "      <td>0.20</td>\n",
              "      <td>0.5</td>\n",
              "      <td>0.80</td>\n",
              "      <td>1.0</td>\n",
              "    </tr>\n",
              "    <tr>\n",
              "      <th>mobile_wt</th>\n",
              "      <td>2000.0</td>\n",
              "      <td>140.24900</td>\n",
              "      <td>35.399655</td>\n",
              "      <td>80.0</td>\n",
              "      <td>109.00</td>\n",
              "      <td>141.0</td>\n",
              "      <td>170.00</td>\n",
              "      <td>200.0</td>\n",
              "    </tr>\n",
              "    <tr>\n",
              "      <th>n_cores</th>\n",
              "      <td>2000.0</td>\n",
              "      <td>4.52050</td>\n",
              "      <td>2.287837</td>\n",
              "      <td>1.0</td>\n",
              "      <td>3.00</td>\n",
              "      <td>4.0</td>\n",
              "      <td>7.00</td>\n",
              "      <td>8.0</td>\n",
              "    </tr>\n",
              "    <tr>\n",
              "      <th>pc</th>\n",
              "      <td>2000.0</td>\n",
              "      <td>9.91650</td>\n",
              "      <td>6.064315</td>\n",
              "      <td>0.0</td>\n",
              "      <td>5.00</td>\n",
              "      <td>10.0</td>\n",
              "      <td>15.00</td>\n",
              "      <td>20.0</td>\n",
              "    </tr>\n",
              "    <tr>\n",
              "      <th>px_height</th>\n",
              "      <td>2000.0</td>\n",
              "      <td>645.10800</td>\n",
              "      <td>443.780811</td>\n",
              "      <td>0.0</td>\n",
              "      <td>282.75</td>\n",
              "      <td>564.0</td>\n",
              "      <td>947.25</td>\n",
              "      <td>1960.0</td>\n",
              "    </tr>\n",
              "    <tr>\n",
              "      <th>px_width</th>\n",
              "      <td>2000.0</td>\n",
              "      <td>1251.51550</td>\n",
              "      <td>432.199447</td>\n",
              "      <td>500.0</td>\n",
              "      <td>874.75</td>\n",
              "      <td>1247.0</td>\n",
              "      <td>1633.00</td>\n",
              "      <td>1998.0</td>\n",
              "    </tr>\n",
              "    <tr>\n",
              "      <th>ram</th>\n",
              "      <td>2000.0</td>\n",
              "      <td>2124.21300</td>\n",
              "      <td>1084.732044</td>\n",
              "      <td>256.0</td>\n",
              "      <td>1207.50</td>\n",
              "      <td>2146.5</td>\n",
              "      <td>3064.50</td>\n",
              "      <td>3998.0</td>\n",
              "    </tr>\n",
              "    <tr>\n",
              "      <th>sc_h</th>\n",
              "      <td>2000.0</td>\n",
              "      <td>12.30650</td>\n",
              "      <td>4.213245</td>\n",
              "      <td>5.0</td>\n",
              "      <td>9.00</td>\n",
              "      <td>12.0</td>\n",
              "      <td>16.00</td>\n",
              "      <td>19.0</td>\n",
              "    </tr>\n",
              "    <tr>\n",
              "      <th>sc_w</th>\n",
              "      <td>2000.0</td>\n",
              "      <td>5.76700</td>\n",
              "      <td>4.356398</td>\n",
              "      <td>0.0</td>\n",
              "      <td>2.00</td>\n",
              "      <td>5.0</td>\n",
              "      <td>9.00</td>\n",
              "      <td>18.0</td>\n",
              "    </tr>\n",
              "    <tr>\n",
              "      <th>talk_time</th>\n",
              "      <td>2000.0</td>\n",
              "      <td>11.01100</td>\n",
              "      <td>5.463955</td>\n",
              "      <td>2.0</td>\n",
              "      <td>6.00</td>\n",
              "      <td>11.0</td>\n",
              "      <td>16.00</td>\n",
              "      <td>20.0</td>\n",
              "    </tr>\n",
              "    <tr>\n",
              "      <th>three_g</th>\n",
              "      <td>2000.0</td>\n",
              "      <td>0.76150</td>\n",
              "      <td>0.426273</td>\n",
              "      <td>0.0</td>\n",
              "      <td>1.00</td>\n",
              "      <td>1.0</td>\n",
              "      <td>1.00</td>\n",
              "      <td>1.0</td>\n",
              "    </tr>\n",
              "    <tr>\n",
              "      <th>touch_screen</th>\n",
              "      <td>2000.0</td>\n",
              "      <td>0.50300</td>\n",
              "      <td>0.500116</td>\n",
              "      <td>0.0</td>\n",
              "      <td>0.00</td>\n",
              "      <td>1.0</td>\n",
              "      <td>1.00</td>\n",
              "      <td>1.0</td>\n",
              "    </tr>\n",
              "    <tr>\n",
              "      <th>wifi</th>\n",
              "      <td>2000.0</td>\n",
              "      <td>0.50700</td>\n",
              "      <td>0.500076</td>\n",
              "      <td>0.0</td>\n",
              "      <td>0.00</td>\n",
              "      <td>1.0</td>\n",
              "      <td>1.00</td>\n",
              "      <td>1.0</td>\n",
              "    </tr>\n",
              "    <tr>\n",
              "      <th>price_range</th>\n",
              "      <td>2000.0</td>\n",
              "      <td>1.50000</td>\n",
              "      <td>1.118314</td>\n",
              "      <td>0.0</td>\n",
              "      <td>0.75</td>\n",
              "      <td>1.5</td>\n",
              "      <td>2.25</td>\n",
              "      <td>3.0</td>\n",
              "    </tr>\n",
              "  </tbody>\n",
              "</table>\n",
              "</div>"
            ],
            "text/plain": [
              "                count        mean          std  ...     50%      75%     max\n",
              "battery_power  2000.0  1238.51850   439.418206  ...  1226.0  1615.25  1998.0\n",
              "blue           2000.0     0.49500     0.500100  ...     0.0     1.00     1.0\n",
              "clock_speed    2000.0     1.52225     0.816004  ...     1.5     2.20     3.0\n",
              "dual_sim       2000.0     0.50950     0.500035  ...     1.0     1.00     1.0\n",
              "fc             2000.0     4.30950     4.341444  ...     3.0     7.00    19.0\n",
              "four_g         2000.0     0.52150     0.499662  ...     1.0     1.00     1.0\n",
              "int_memory     2000.0    32.04650    18.145715  ...    32.0    48.00    64.0\n",
              "m_dep          2000.0     0.50175     0.288416  ...     0.5     0.80     1.0\n",
              "mobile_wt      2000.0   140.24900    35.399655  ...   141.0   170.00   200.0\n",
              "n_cores        2000.0     4.52050     2.287837  ...     4.0     7.00     8.0\n",
              "pc             2000.0     9.91650     6.064315  ...    10.0    15.00    20.0\n",
              "px_height      2000.0   645.10800   443.780811  ...   564.0   947.25  1960.0\n",
              "px_width       2000.0  1251.51550   432.199447  ...  1247.0  1633.00  1998.0\n",
              "ram            2000.0  2124.21300  1084.732044  ...  2146.5  3064.50  3998.0\n",
              "sc_h           2000.0    12.30650     4.213245  ...    12.0    16.00    19.0\n",
              "sc_w           2000.0     5.76700     4.356398  ...     5.0     9.00    18.0\n",
              "talk_time      2000.0    11.01100     5.463955  ...    11.0    16.00    20.0\n",
              "three_g        2000.0     0.76150     0.426273  ...     1.0     1.00     1.0\n",
              "touch_screen   2000.0     0.50300     0.500116  ...     1.0     1.00     1.0\n",
              "wifi           2000.0     0.50700     0.500076  ...     1.0     1.00     1.0\n",
              "price_range    2000.0     1.50000     1.118314  ...     1.5     2.25     3.0\n",
              "\n",
              "[21 rows x 8 columns]"
            ]
          },
          "metadata": {
            "tags": []
          },
          "execution_count": 401
        }
      ]
    },
    {
      "cell_type": "code",
      "metadata": {
        "id": "CF9YnM-y29Ov"
      },
      "source": [
        "df1 = df.groupby(by = 'price_range').count()"
      ],
      "execution_count": 402,
      "outputs": []
    },
    {
      "cell_type": "code",
      "metadata": {
        "colab": {
          "base_uri": "https://localhost:8080/",
          "height": 648
        },
        "id": "07b9_ekdJy-f",
        "outputId": "df3402f1-5cbe-423b-d58b-b5ec71d38006"
      },
      "source": [
        "df1.T"
      ],
      "execution_count": 403,
      "outputs": [
        {
          "output_type": "execute_result",
          "data": {
            "text/html": [
              "<div>\n",
              "<style scoped>\n",
              "    .dataframe tbody tr th:only-of-type {\n",
              "        vertical-align: middle;\n",
              "    }\n",
              "\n",
              "    .dataframe tbody tr th {\n",
              "        vertical-align: top;\n",
              "    }\n",
              "\n",
              "    .dataframe thead th {\n",
              "        text-align: right;\n",
              "    }\n",
              "</style>\n",
              "<table border=\"1\" class=\"dataframe\">\n",
              "  <thead>\n",
              "    <tr style=\"text-align: right;\">\n",
              "      <th>price_range</th>\n",
              "      <th>0</th>\n",
              "      <th>1</th>\n",
              "      <th>2</th>\n",
              "      <th>3</th>\n",
              "    </tr>\n",
              "  </thead>\n",
              "  <tbody>\n",
              "    <tr>\n",
              "      <th>battery_power</th>\n",
              "      <td>500</td>\n",
              "      <td>500</td>\n",
              "      <td>500</td>\n",
              "      <td>500</td>\n",
              "    </tr>\n",
              "    <tr>\n",
              "      <th>blue</th>\n",
              "      <td>500</td>\n",
              "      <td>500</td>\n",
              "      <td>500</td>\n",
              "      <td>500</td>\n",
              "    </tr>\n",
              "    <tr>\n",
              "      <th>clock_speed</th>\n",
              "      <td>500</td>\n",
              "      <td>500</td>\n",
              "      <td>500</td>\n",
              "      <td>500</td>\n",
              "    </tr>\n",
              "    <tr>\n",
              "      <th>dual_sim</th>\n",
              "      <td>500</td>\n",
              "      <td>500</td>\n",
              "      <td>500</td>\n",
              "      <td>500</td>\n",
              "    </tr>\n",
              "    <tr>\n",
              "      <th>fc</th>\n",
              "      <td>500</td>\n",
              "      <td>500</td>\n",
              "      <td>500</td>\n",
              "      <td>500</td>\n",
              "    </tr>\n",
              "    <tr>\n",
              "      <th>four_g</th>\n",
              "      <td>500</td>\n",
              "      <td>500</td>\n",
              "      <td>500</td>\n",
              "      <td>500</td>\n",
              "    </tr>\n",
              "    <tr>\n",
              "      <th>int_memory</th>\n",
              "      <td>500</td>\n",
              "      <td>500</td>\n",
              "      <td>500</td>\n",
              "      <td>500</td>\n",
              "    </tr>\n",
              "    <tr>\n",
              "      <th>m_dep</th>\n",
              "      <td>500</td>\n",
              "      <td>500</td>\n",
              "      <td>500</td>\n",
              "      <td>500</td>\n",
              "    </tr>\n",
              "    <tr>\n",
              "      <th>mobile_wt</th>\n",
              "      <td>500</td>\n",
              "      <td>500</td>\n",
              "      <td>500</td>\n",
              "      <td>500</td>\n",
              "    </tr>\n",
              "    <tr>\n",
              "      <th>n_cores</th>\n",
              "      <td>500</td>\n",
              "      <td>500</td>\n",
              "      <td>500</td>\n",
              "      <td>500</td>\n",
              "    </tr>\n",
              "    <tr>\n",
              "      <th>pc</th>\n",
              "      <td>500</td>\n",
              "      <td>500</td>\n",
              "      <td>500</td>\n",
              "      <td>500</td>\n",
              "    </tr>\n",
              "    <tr>\n",
              "      <th>px_height</th>\n",
              "      <td>500</td>\n",
              "      <td>500</td>\n",
              "      <td>500</td>\n",
              "      <td>500</td>\n",
              "    </tr>\n",
              "    <tr>\n",
              "      <th>px_width</th>\n",
              "      <td>500</td>\n",
              "      <td>500</td>\n",
              "      <td>500</td>\n",
              "      <td>500</td>\n",
              "    </tr>\n",
              "    <tr>\n",
              "      <th>ram</th>\n",
              "      <td>500</td>\n",
              "      <td>500</td>\n",
              "      <td>500</td>\n",
              "      <td>500</td>\n",
              "    </tr>\n",
              "    <tr>\n",
              "      <th>sc_h</th>\n",
              "      <td>500</td>\n",
              "      <td>500</td>\n",
              "      <td>500</td>\n",
              "      <td>500</td>\n",
              "    </tr>\n",
              "    <tr>\n",
              "      <th>sc_w</th>\n",
              "      <td>500</td>\n",
              "      <td>500</td>\n",
              "      <td>500</td>\n",
              "      <td>500</td>\n",
              "    </tr>\n",
              "    <tr>\n",
              "      <th>talk_time</th>\n",
              "      <td>500</td>\n",
              "      <td>500</td>\n",
              "      <td>500</td>\n",
              "      <td>500</td>\n",
              "    </tr>\n",
              "    <tr>\n",
              "      <th>three_g</th>\n",
              "      <td>500</td>\n",
              "      <td>500</td>\n",
              "      <td>500</td>\n",
              "      <td>500</td>\n",
              "    </tr>\n",
              "    <tr>\n",
              "      <th>touch_screen</th>\n",
              "      <td>500</td>\n",
              "      <td>500</td>\n",
              "      <td>500</td>\n",
              "      <td>500</td>\n",
              "    </tr>\n",
              "    <tr>\n",
              "      <th>wifi</th>\n",
              "      <td>500</td>\n",
              "      <td>500</td>\n",
              "      <td>500</td>\n",
              "      <td>500</td>\n",
              "    </tr>\n",
              "  </tbody>\n",
              "</table>\n",
              "</div>"
            ],
            "text/plain": [
              "price_range      0    1    2    3\n",
              "battery_power  500  500  500  500\n",
              "blue           500  500  500  500\n",
              "clock_speed    500  500  500  500\n",
              "dual_sim       500  500  500  500\n",
              "fc             500  500  500  500\n",
              "four_g         500  500  500  500\n",
              "int_memory     500  500  500  500\n",
              "m_dep          500  500  500  500\n",
              "mobile_wt      500  500  500  500\n",
              "n_cores        500  500  500  500\n",
              "pc             500  500  500  500\n",
              "px_height      500  500  500  500\n",
              "px_width       500  500  500  500\n",
              "ram            500  500  500  500\n",
              "sc_h           500  500  500  500\n",
              "sc_w           500  500  500  500\n",
              "talk_time      500  500  500  500\n",
              "three_g        500  500  500  500\n",
              "touch_screen   500  500  500  500\n",
              "wifi           500  500  500  500"
            ]
          },
          "metadata": {
            "tags": []
          },
          "execution_count": 403
        }
      ]
    },
    {
      "cell_type": "markdown",
      "metadata": {
        "id": "dk1RB1BfrzpW"
      },
      "source": [
        "### From this data we can coclude that our dataset is balanced for all the 4 classes"
      ]
    },
    {
      "cell_type": "markdown",
      "metadata": {
        "id": "9KxS0OoLnOft"
      },
      "source": [
        "## Detecting and removing outliers if any"
      ]
    },
    {
      "cell_type": "code",
      "metadata": {
        "id": "p97E_HzFnK9V"
      },
      "source": [
        ""
      ],
      "execution_count": 403,
      "outputs": []
    },
    {
      "cell_type": "code",
      "metadata": {
        "id": "-VgXWVeZWcWv",
        "colab": {
          "base_uri": "https://localhost:8080/",
          "height": 1000
        },
        "outputId": "c9f29077-e74f-4081-d86a-21a5190e8623"
      },
      "source": [
        "fig = plt.figure(figsize =(20, 20))\n",
        "data = ['battery_power', 'clock_speed', 'fc', 'four_g',\n",
        "       'int_memory', 'm_dep', 'mobile_wt', 'n_cores', 'pc', 'px_height',\n",
        "       'px_width', 'ram', 'sc_h', 'sc_w', 'talk_time', 'three_g',\n",
        "       'touch_screen', 'wifi', 'price_range']\n",
        "# Creating plot\n",
        "# plt.boxplot(data)\n",
        "boxplot = df.boxplot(column=['battery_power', 'clock_speed', 'fc',\n",
        "       'int_memory', 'm_dep', 'mobile_wt', 'n_cores', 'pc', 'px_height',\n",
        "       'px_width', 'ram', 'sc_h', 'sc_w', 'talk_time'])\n",
        "\n",
        "# show plot\n",
        "plt.show()"
      ],
      "execution_count": 404,
      "outputs": [
        {
          "output_type": "display_data",
          "data": {
            "image/png": "[encoded data removed]",
            "text/plain": [
              "<Figure size 1440x1440 with 1 Axes>"
            ]
          },
          "metadata": {
            "tags": [],
            "needs_background": "light"
          }
        }
      ]
    },
    {
      "cell_type": "code",
      "metadata": {
        "id": "l7vAJd-2RLt_",
        "colab": {
          "base_uri": "https://localhost:8080/",
          "height": 574
        },
        "outputId": "389e3703-a3d2-4402-dfd9-e408a3d9bcba"
      },
      "source": [
        "fig = plt.figure(figsize =(20, 10))\n",
        "\n",
        "\n",
        "boxplot = df.boxplot(column=['blue','clock_speed', 'fc','m_dep','n_cores','pc','sc_h','sc_w','talk_time'])\n",
        "plt.show()"
      ],
      "execution_count": 405,
      "outputs": [
        {
          "output_type": "display_data",
          "data": {
            "image/png": "[encoded data removed]",
            "text/plain": [
              "<Figure size 1440x720 with 1 Axes>"
            ]
          },
          "metadata": {
            "tags": [],
            "needs_background": "light"
          }
        }
      ]
    },
    {
      "cell_type": "code",
      "metadata": {
        "id": "v_9vnF5eqvt_"
      },
      "source": [
        ""
      ],
      "execution_count": 405,
      "outputs": []
    },
    {
      "cell_type": "markdown",
      "metadata": {
        "id": "HspqdMYCZK0T"
      },
      "source": [
        "We can see that we have outliers in px_height and fc"
      ]
    },
    {
      "cell_type": "code",
      "metadata": {
        "id": "NJ-fmf9lnj4d"
      },
      "source": [
        "new_df = df.copy()"
      ],
      "execution_count": 406,
      "outputs": []
    },
    {
      "cell_type": "code",
      "metadata": {
        "id": "8vlVty9dtVwZ"
      },
      "source": [
        "# def outlier_treatment(datacolumn):\n",
        "#  sorted(datacolumn)\n",
        "#  Q1,Q3 = np.percentile(datacolumn , [25,75])\n",
        "#  IQR = Q3 — Q1\n",
        "#  lower_range = Q1 — (1.5 * IQR)\n",
        "#  upper_range = Q3 + (1.5 * IQR)\n",
        "#  return lower_range,upper_range"
      ],
      "execution_count": 407,
      "outputs": []
    },
    {
      "cell_type": "code",
      "metadata": {
        "id": "5ufazV9zn1Be"
      },
      "source": [
        "# Q1 = new_df[\"fc\"].quantile(0.25)\n",
        "Q3 = new_df['fc'].quantile(0.991)\n",
        "# IQR = Q3-Q1\n",
        "\n",
        "new_df = new_df[(new_df['fc'] <= Q3)]\n"
      ],
      "execution_count": 408,
      "outputs": []
    },
    {
      "cell_type": "code",
      "metadata": {
        "colab": {
          "base_uri": "https://localhost:8080/"
        },
        "id": "pTDD_0xEplIz",
        "outputId": "426c9832-8d13-4a01-fe9f-6ece39c5aef3"
      },
      "source": [
        "new_df.shape"
      ],
      "execution_count": 409,
      "outputs": [
        {
          "output_type": "execute_result",
          "data": {
            "text/plain": [
              "(1982, 21)"
            ]
          },
          "metadata": {
            "tags": []
          },
          "execution_count": 409
        }
      ]
    },
    {
      "cell_type": "code",
      "metadata": {
        "colab": {
          "base_uri": "https://localhost:8080/",
          "height": 578
        },
        "id": "AVXSKKM-qEmk",
        "outputId": "6ddcb8c6-bf06-457f-a3f3-ee9496d7bafe"
      },
      "source": [
        "fig = plt.figure(figsize =(20, 10))\n",
        "\n",
        "\n",
        "boxplot = new_df.boxplot(column=['fc'])\n",
        "plt.show()"
      ],
      "execution_count": 410,
      "outputs": [
        {
          "output_type": "display_data",
          "data": {
            "image/png": "[encoded data removed]",
            "text/plain": [
              "<Figure size 1440x720 with 1 Axes>"
            ]
          },
          "metadata": {
            "tags": [],
            "needs_background": "light"
          }
        }
      ]
    },
    {
      "cell_type": "code",
      "metadata": {
        "id": "DbPeoGoYrBCc"
      },
      "source": [
        "Q3 = new_df['px_height'].quantile(0.999)\n",
        "\n",
        "new_df = new_df[(new_df['px_height'] <= Q3)]"
      ],
      "execution_count": 411,
      "outputs": []
    },
    {
      "cell_type": "code",
      "metadata": {
        "id": "g8rHFOs4rKko"
      },
      "source": [
        ""
      ],
      "execution_count": 411,
      "outputs": []
    },
    {
      "cell_type": "code",
      "metadata": {
        "colab": {
          "base_uri": "https://localhost:8080/",
          "height": 268
        },
        "id": "757jR4yUqlhj",
        "outputId": "8955bd4b-1f9b-4726-ab7a-257f4ac7f980"
      },
      "source": [
        "boxplot = new_df.boxplot(column=['px_height'])\n",
        "\n",
        "# show plot\n",
        "plt.show()"
      ],
      "execution_count": 412,
      "outputs": [
        {
          "output_type": "display_data",
          "data": {
            "image/png": "[encoded data removed]",
            "text/plain": [
              "<Figure size 432x288 with 1 Axes>"
            ]
          },
          "metadata": {
            "tags": [],
            "needs_background": "light"
          }
        }
      ]
    },
    {
      "cell_type": "code",
      "metadata": {
        "colab": {
          "base_uri": "https://localhost:8080/"
        },
        "id": "z79-wo-gr6mO",
        "outputId": "3d976423-caa4-4355-cbc4-6537fbb564fc"
      },
      "source": [
        "new_df.shape"
      ],
      "execution_count": 413,
      "outputs": [
        {
          "output_type": "execute_result",
          "data": {
            "text/plain": [
              "(1980, 21)"
            ]
          },
          "metadata": {
            "tags": []
          },
          "execution_count": 413
        }
      ]
    },
    {
      "cell_type": "code",
      "metadata": {
        "colab": {
          "base_uri": "https://localhost:8080/",
          "height": 769
        },
        "id": "UrtnA2XRJ9Hd",
        "outputId": "f8abd058-7e4a-430c-a46e-b6c2d23ed9df"
      },
      "source": [
        "# Finding correlation in our data\n",
        "\n",
        "import seaborn as sns\n",
        "import matplotlib.pyplot as plt\n",
        "corr=new_df.corr()\n",
        "fig = plt.figure(figsize=(15,12))\n",
        "r = sns.heatmap(corr, cmap='icefire')\n",
        "r.set_title(\"Correlation \")\n",
        "plt.show()"
      ],
      "execution_count": 414,
      "outputs": [
        {
          "output_type": "display_data",
          "data": {
            "image/png": "[encoded data removed]",
            "text/plain": [
              "<Figure size 1080x864 with 2 Axes>"
            ]
          },
          "metadata": {
            "tags": [],
            "needs_background": "light"
          }
        }
      ]
    },
    {
      "cell_type": "markdown",
      "metadata": {
        "id": "yIiCeSMMeDig"
      },
      "source": [
        "### Selecting important features"
      ]
    },
    {
      "cell_type": "code",
      "metadata": {
        "colab": {
          "base_uri": "https://localhost:8080/"
        },
        "id": "JDsZscSdeIMT",
        "outputId": "4b63dfd5-1c2d-481f-baad-837152ffb600"
      },
      "source": [
        "# for categorical response and categorical predictor\n",
        "\n",
        "from sklearn.feature_selection import SelectKBest\n",
        "from sklearn.feature_selection import chi2\n",
        "\n",
        "\n",
        "# data = pd.read_csv(\"D://Blogs//train.csv\")\n",
        "X = new_df[['blue','dual_sim','four_g','three_g', 'touch_screen', 'wifi']]  #independent columns\n",
        "y = new_df.iloc[:,-1]    #target column i.e price range\n",
        "#apply SelectKBest class to extract top 10 best features\n",
        "bestfeatures = SelectKBest(score_func=chi2, k='all')\n",
        "fit = bestfeatures.fit(X,y)\n",
        "dfscores = pd.DataFrame(fit.scores_)\n",
        "dfcolumns = pd.DataFrame(X.columns)\n",
        "#concat two dataframes for better visualization \n",
        "featureScores = pd.concat([dfcolumns,dfscores],axis=1)\n",
        "featureScores.columns = ['Specs','Score']\n",
        "print(featureScores.nlargest(21,'Score')) "
      ],
      "execution_count": 415,
      "outputs": [
        {
          "output_type": "stream",
          "text": [
            "          Specs     Score\n",
            "4  touch_screen  2.000355\n",
            "2        four_g  1.853379\n",
            "1      dual_sim  0.600599\n",
            "0          blue  0.479060\n",
            "5          wifi  0.403716\n",
            "3       three_g  0.352030\n"
          ],
          "name": "stdout"
        }
      ]
    },
    {
      "cell_type": "code",
      "metadata": {
        "id": "69tbFelMI0gk"
      },
      "source": [
        "# For categorical response and continuous predictor\n",
        "X = new_df[['battery_power','clock_speed', 'fc',\n",
        "       'int_memory', 'm_dep', 'mobile_wt', 'n_cores', 'pc', 'px_height',\n",
        "       'px_width', 'ram', 'sc_h', 'sc_w', 'talk_time']]\n",
        "y = new_df.iloc[:,-1] "
      ],
      "execution_count": 416,
      "outputs": []
    },
    {
      "cell_type": "code",
      "metadata": {
        "colab": {
          "base_uri": "https://localhost:8080/",
          "height": 539
        },
        "id": "fOb2v9QtK5ak",
        "outputId": "ef544adc-2d9e-49a5-ff8f-7948713f4f49"
      },
      "source": [
        "\n",
        "def select_features(X_train, y_train, X_test):\n",
        "\t# configure to select all features\n",
        "\tfs = SelectKBest(score_func=f_classif, k='all')\n",
        "\t# learn relationship from training data\n",
        "\tfs.fit(X_train, y_train)\n",
        "\t# transform train input data\n",
        "\tX_train_fs = fs.transform(X_train)\n",
        "\t# transform test input data\n",
        "\tX_test_fs = fs.transform(X_test)\n",
        "\treturn X_train_fs, X_test_fs, fs\n",
        " \n",
        "# load the dataset\n",
        "# X, y = load_dataset('pima-indians-diabetes.csv')\n",
        "# split into train and test sets\n",
        "X_train, X_test, y_train, y_test = train_test_split(X, y, test_size=0.33, random_state=1)\n",
        "# feature selection\n",
        "X_train_fs, X_test_fs, fs = select_features(X_train, y_train, X_test)\n",
        "# what are scores for the features\n",
        "# for i in range(len(fs.scores_)):\n",
        "# \tprint('Feature %d: %f' % (i, fs.scores_[i]))\n",
        "dfscores = pd.DataFrame(fs.scores_)\n",
        "dfcolumns = pd.DataFrame(X.columns)\n",
        "# plot the scores\n",
        "pyplot.bar([i for i in range(len(fs.scores_))], fs.scores_)\n",
        "pyplot.show()\n",
        "\n",
        "# dfscores = pd.DataFrame(fit.scores_)\n",
        "# dfcolumns = pd.DataFrame(X.columns)\n",
        "featureScores = pd.concat([dfcolumns,dfscores],axis=1)\n",
        "featureScores.columns = ['Specs','Score']\n",
        "# print(featureScores)\n",
        "print(featureScores.nlargest(21,'Score')) "
      ],
      "execution_count": 417,
      "outputs": [
        {
          "output_type": "display_data",
          "data": {
            "image/png": "[encoded data removed]",
            "text/plain": [
              "<Figure size 432x288 with 1 Axes>"
            ]
          },
          "metadata": {
            "tags": [],
            "needs_background": "light"
          }
        },
        {
          "output_type": "stream",
          "text": [
            "            Specs        Score\n",
            "10            ram  2419.443534\n",
            "0   battery_power    24.641800\n",
            "9        px_width    13.718777\n",
            "8       px_height    10.426165\n",
            "3      int_memory     4.066940\n",
            "4           m_dep     2.673142\n",
            "5       mobile_wt     1.980453\n",
            "13      talk_time     1.902398\n",
            "12           sc_w     1.483696\n",
            "11           sc_h     1.160781\n",
            "6         n_cores     0.769897\n",
            "7              pc     0.636563\n",
            "1     clock_speed     0.584822\n",
            "2              fc     0.509259\n"
          ],
          "name": "stdout"
        }
      ]
    },
    {
      "cell_type": "markdown",
      "metadata": {
        "id": "f8RVikWgsN0D"
      },
      "source": [
        "# Exploratory Data Analysis"
      ]
    },
    {
      "cell_type": "markdown",
      "metadata": {
        "id": "rArM4u8esSdF"
      },
      "source": [
        "### Categorical Variables"
      ]
    },
    {
      "cell_type": "code",
      "metadata": {
        "id": "2iz7VTUlskDZ"
      },
      "source": [
        "categorical_variables = ['blue','dual_sim','four_g','three_g', 'touch_screen', 'wifi','n_cores']"
      ],
      "execution_count": 418,
      "outputs": []
    },
    {
      "cell_type": "markdown",
      "metadata": {
        "id": "ylQR9acCs4f0"
      },
      "source": [
        "####Bluetooth"
      ]
    },
    {
      "cell_type": "code",
      "metadata": {
        "colab": {
          "base_uri": "https://localhost:8080/",
          "height": 283
        },
        "id": "oi46eOtssXJE",
        "outputId": "9ffa0a73-2f08-45d4-e85b-c8ac714a0dd0"
      },
      "source": [
        "freq_df = new_df.groupby('price_range')['blue'].value_counts().unstack(0)\n",
        "freq_df.columns = ['low cost', 'medium cost', 'high cost','very high cost']\n",
        "\n",
        "pct_df = freq_df.divide(freq_df.sum(axis=1), axis=0)*100\n",
        "pct_df.plot(kind=\"bar\")\n",
        "plt.ylim(0,100)\n",
        "\n",
        "plt.ylabel('Percentage')\n",
        "plt.xlabel('Bluetooth')\n",
        "plt.xticks(rotation=0)\n",
        "plt.show();\n"
      ],
      "execution_count": 419,
      "outputs": [
        {
          "output_type": "display_data",
          "data": {
            "image/png": "[encoded data removed]",
            "text/plain": [
              "<Figure size 432x288 with 1 Axes>"
            ]
          },
          "metadata": {
            "tags": [],
            "needs_background": "light"
          }
        }
      ]
    },
    {
      "cell_type": "code",
      "metadata": {
        "colab": {
          "base_uri": "https://localhost:8080/"
        },
        "id": "V-AZMX8P0WnU",
        "outputId": "15880f43-fdc0-4de0-83bd-ccb9c00b5eba"
      },
      "source": [
        "freq_df.index"
      ],
      "execution_count": 420,
      "outputs": [
        {
          "output_type": "execute_result",
          "data": {
            "text/plain": [
              "Int64Index([0, 1], dtype='int64', name='blue')"
            ]
          },
          "metadata": {
            "tags": []
          },
          "execution_count": 420
        }
      ]
    },
    {
      "cell_type": "markdown",
      "metadata": {
        "id": "ZVBvLsnjtLdE"
      },
      "source": [
        "#### Dual Sim"
      ]
    },
    {
      "cell_type": "code",
      "metadata": {
        "colab": {
          "base_uri": "https://localhost:8080/",
          "height": 283
        },
        "id": "F80ROmiouehQ",
        "outputId": "1bb1c96a-5342-4c62-a1b4-1260b9b3d615"
      },
      "source": [
        "freq_df = new_df.groupby('price_range')['dual_sim'].value_counts().unstack(0)\n",
        "freq_df.columns = ['low cost', 'medium cost', 'high cost','very high cost']\n",
        "\n",
        "pct_df = freq_df.divide(freq_df.sum(axis=1), axis=0)*100\n",
        "pct_df.plot(kind=\"bar\")\n",
        "plt.ylim(0,100)\n",
        "plt.xlabel('Dual Sim')\n",
        "\n",
        "plt.ylabel('Percentage')\n",
        "plt.xticks(rotation=0)\n",
        "plt.show();"
      ],
      "execution_count": 421,
      "outputs": [
        {
          "output_type": "display_data",
          "data": {
            "image/png": "[encoded data removed]",
            "text/plain": [
              "<Figure size 432x288 with 1 Axes>"
            ]
          },
          "metadata": {
            "tags": [],
            "needs_background": "light"
          }
        }
      ]
    },
    {
      "cell_type": "markdown",
      "metadata": {
        "id": "bOdkKU0PtPQt"
      },
      "source": [
        "####Four G"
      ]
    },
    {
      "cell_type": "code",
      "metadata": {
        "colab": {
          "base_uri": "https://localhost:8080/",
          "height": 283
        },
        "id": "jTsCYb4sur9Q",
        "outputId": "2a90a1e8-b759-4751-c6c3-11f89462abb9"
      },
      "source": [
        "freq_df = new_df.groupby('price_range')['four_g'].value_counts().unstack(0)\n",
        "freq_df.columns = ['low cost', 'medium cost', 'high cost','very high cost']\n",
        "\n",
        "pct_df = freq_df.divide(freq_df.sum(axis=1), axis=0)*100\n",
        "pct_df.plot(kind=\"bar\")\n",
        "plt.ylim(0,100)\n",
        "plt.xlabel('Four G')\n",
        "\n",
        "plt.ylabel('Percentage')\n",
        "plt.xticks(rotation=0)\n",
        "plt.show();"
      ],
      "execution_count": 422,
      "outputs": [
        {
          "output_type": "display_data",
          "data": {
            "image/png": "[encoded data removed]",
            "text/plain": [
              "<Figure size 432x288 with 1 Axes>"
            ]
          },
          "metadata": {
            "tags": [],
            "needs_background": "light"
          }
        }
      ]
    },
    {
      "cell_type": "markdown",
      "metadata": {
        "id": "H2ISLrfytTYY"
      },
      "source": [
        "####Three G"
      ]
    },
    {
      "cell_type": "code",
      "metadata": {
        "colab": {
          "base_uri": "https://localhost:8080/",
          "height": 0
        },
        "id": "f16Rv7hmuzs3",
        "outputId": "57417381-176a-42d6-8dfa-f4388200be78"
      },
      "source": [
        "freq_df = new_df.groupby('price_range')['three_g'].value_counts().unstack(0)\n",
        "freq_df.columns = ['low cost', 'medium cost', 'high cost','very high cost']\n",
        "\n",
        "pct_df = freq_df.divide(freq_df.sum(axis=1), axis=0)*100\n",
        "pct_df.plot(kind=\"bar\")\n",
        "plt.ylim(0,100)\n",
        "plt.xlabel('Three G')\n",
        "\n",
        "plt.ylabel('Percentage')\n",
        "plt.xticks(rotation=0)\n",
        "plt.show();"
      ],
      "execution_count": 423,
      "outputs": [
        {
          "output_type": "display_data",
          "data": {
            "image/png": "[encoded data removed]",
            "text/plain": [
              "<Figure size 432x288 with 1 Axes>"
            ]
          },
          "metadata": {
            "tags": [],
            "needs_background": "light"
          }
        }
      ]
    },
    {
      "cell_type": "markdown",
      "metadata": {
        "id": "oDMgu-o5tWXB"
      },
      "source": [
        "####Touch Screen"
      ]
    },
    {
      "cell_type": "code",
      "metadata": {
        "colab": {
          "base_uri": "https://localhost:8080/",
          "height": 0
        },
        "id": "XayL4Q-6u3vR",
        "outputId": "66265d97-0d85-4cdd-9279-df2079289a8b"
      },
      "source": [
        "freq_df = new_df.groupby('price_range')['touch_screen'].value_counts().unstack(0)\n",
        "freq_df.columns = ['low cost', 'medium cost', 'high cost','very high cost']\n",
        "\n",
        "pct_df = freq_df.divide(freq_df.sum(axis=1), axis=0)*100\n",
        "pct_df.plot(kind=\"bar\")\n",
        "plt.ylim(0,100)\n",
        "plt.xlabel('Touch Screen')\n",
        "\n",
        "plt.ylabel('Percentage')\n",
        "plt.xticks(rotation=0)\n",
        "plt.show();"
      ],
      "execution_count": 424,
      "outputs": [
        {
          "output_type": "display_data",
          "data": {
            "image/png": "[encoded data removed]",
            "text/plain": [
              "<Figure size 432x288 with 1 Axes>"
            ]
          },
          "metadata": {
            "tags": [],
            "needs_background": "light"
          }
        }
      ]
    },
    {
      "cell_type": "markdown",
      "metadata": {
        "id": "o5sBLSz5tZVt"
      },
      "source": [
        "####WiFi"
      ]
    },
    {
      "cell_type": "code",
      "metadata": {
        "colab": {
          "base_uri": "https://localhost:8080/",
          "height": 283
        },
        "id": "iMuJA1RVu7ug",
        "outputId": "43576b46-7f3d-424a-d3f2-6f66ec4c79d5"
      },
      "source": [
        "freq_df = new_df.groupby('price_range')['wifi'].value_counts().unstack(0)\n",
        "freq_df.columns = ['low cost', 'medium cost', 'high cost','very high cost']\n",
        "\n",
        "pct_df = freq_df.divide(freq_df.sum(axis=1), axis=0)*100\n",
        "pct_df.plot(kind=\"bar\")\n",
        "plt.ylim(0,100)\n",
        "plt.xlabel('WiFi')\n",
        "\n",
        "plt.ylabel('Percentage')\n",
        "plt.xticks(rotation=0)\n",
        "plt.show();"
      ],
      "execution_count": 425,
      "outputs": [
        {
          "output_type": "display_data",
          "data": {
            "image/png": "[encoded data removed]",
            "text/plain": [
              "<Figure size 432x288 with 1 Axes>"
            ]
          },
          "metadata": {
            "tags": [],
            "needs_background": "light"
          }
        }
      ]
    },
    {
      "cell_type": "markdown",
      "metadata": {
        "id": "oSBYW05ctEkD"
      },
      "source": [
        "### N Cores"
      ]
    },
    {
      "cell_type": "code",
      "metadata": {
        "colab": {
          "base_uri": "https://localhost:8080/",
          "height": 319
        },
        "id": "YO_QqU7Vs-mg",
        "outputId": "7b084a9a-f7fb-44f2-c288-10f637c37b45"
      },
      "source": [
        "freq_df = new_df.groupby('price_range')['n_cores'].value_counts().unstack(0)\n",
        "freq_df.columns = ['low cost', 'medium cost', 'high cost','very high cost']\n",
        "# plt.figure(figsize = (12,12))\n",
        "\n",
        "pct_df = freq_df.divide(freq_df.sum(axis=1), axis=0)*100\n",
        "pct_df.plot(kind=\"bar\")\n",
        "plt.ylim(0,100)\n",
        "plt.xlabel('N Cores')\n",
        "\n",
        "plt.ylabel('Percentage')\n",
        "plt.xticks(rotation=0)\n",
        "plt.show()\n",
        "plt.figure(figsize = (12,12))\n"
      ],
      "execution_count": 426,
      "outputs": [
        {
          "output_type": "display_data",
          "data": {
            "image/png": "[encoded data removed]",
            "text/plain": [
              "<Figure size 432x288 with 1 Axes>"
            ]
          },
          "metadata": {
            "tags": [],
            "needs_background": "light"
          }
        },
        {
          "output_type": "execute_result",
          "data": {
            "text/plain": [
              "<Figure size 864x864 with 0 Axes>"
            ]
          },
          "metadata": {
            "tags": []
          },
          "execution_count": 426
        },
        {
          "output_type": "display_data",
          "data": {
            "text/plain": [
              "<Figure size 864x864 with 0 Axes>"
            ]
          },
          "metadata": {
            "tags": []
          }
        }
      ]
    },
    {
      "cell_type": "markdown",
      "metadata": {
        "id": "AnZpuFatv3nT"
      },
      "source": [
        "### Checking correlation amongst the categorical variables"
      ]
    },
    {
      "cell_type": "code",
      "metadata": {
        "colab": {
          "base_uri": "https://localhost:8080/",
          "height": 0
        },
        "id": "VfL6yMEywGmR",
        "outputId": "ada913bf-de90-423e-8a4f-9154b4d647d0"
      },
      "source": [
        "plt.figure(figsize=(10,8))\n",
        "sns.heatmap(new_df[categorical_variables].corr(), annot=True, fmt=\".2f\", cmap = 'PiYG');"
      ],
      "execution_count": 427,
      "outputs": [
        {
          "output_type": "display_data",
          "data": {
            "image/png": "[encoded data removed]",
            "text/plain": [
              "<Figure size 720x576 with 2 Axes>"
            ]
          },
          "metadata": {
            "tags": [],
            "needs_background": "light"
          }
        }
      ]
    },
    {
      "cell_type": "markdown",
      "metadata": {
        "id": "L6jf0FpF0FST"
      },
      "source": [
        "#### Finding VIF factor"
      ]
    },
    {
      "cell_type": "code",
      "metadata": {
        "id": "7naKdWSv0Jvk"
      },
      "source": [
        "def calc_vif(X):\n",
        "    vif = pd.DataFrame()\n",
        "    vif[\"variables\"] = X.columns\n",
        "    vif[\"VIF\"] = [variance_inflation_factor(X.values, i) for i in range(X.shape[1])]\n",
        "    return(vif)"
      ],
      "execution_count": 428,
      "outputs": []
    },
    {
      "cell_type": "code",
      "metadata": {
        "colab": {
          "base_uri": "https://localhost:8080/",
          "height": 0
        },
        "id": "Mv-SM6sT4fW3",
        "outputId": "c55ab4f4-631c-4878-acf5-75f0825ff0f0"
      },
      "source": [
        "calc_vif(new_df[categorical_variables])"
      ],
      "execution_count": 429,
      "outputs": [
        {
          "output_type": "execute_result",
          "data": {
            "text/html": [
              "<div>\n",
              "<style scoped>\n",
              "    .dataframe tbody tr th:only-of-type {\n",
              "        vertical-align: middle;\n",
              "    }\n",
              "\n",
              "    .dataframe tbody tr th {\n",
              "        vertical-align: top;\n",
              "    }\n",
              "\n",
              "    .dataframe thead th {\n",
              "        text-align: right;\n",
              "    }\n",
              "</style>\n",
              "<table border=\"1\" class=\"dataframe\">\n",
              "  <thead>\n",
              "    <tr style=\"text-align: right;\">\n",
              "      <th></th>\n",
              "      <th>variables</th>\n",
              "      <th>VIF</th>\n",
              "    </tr>\n",
              "  </thead>\n",
              "  <tbody>\n",
              "    <tr>\n",
              "      <th>0</th>\n",
              "      <td>blue</td>\n",
              "      <td>1.843478</td>\n",
              "    </tr>\n",
              "    <tr>\n",
              "      <th>1</th>\n",
              "      <td>dual_sim</td>\n",
              "      <td>1.857770</td>\n",
              "    </tr>\n",
              "    <tr>\n",
              "      <th>2</th>\n",
              "      <td>four_g</td>\n",
              "      <td>3.180902</td>\n",
              "    </tr>\n",
              "    <tr>\n",
              "      <th>3</th>\n",
              "      <td>three_g</td>\n",
              "      <td>5.222570</td>\n",
              "    </tr>\n",
              "    <tr>\n",
              "      <th>4</th>\n",
              "      <td>touch_screen</td>\n",
              "      <td>1.870131</td>\n",
              "    </tr>\n",
              "    <tr>\n",
              "      <th>5</th>\n",
              "      <td>wifi</td>\n",
              "      <td>1.853414</td>\n",
              "    </tr>\n",
              "    <tr>\n",
              "      <th>6</th>\n",
              "      <td>n_cores</td>\n",
              "      <td>3.338972</td>\n",
              "    </tr>\n",
              "  </tbody>\n",
              "</table>\n",
              "</div>"
            ],
            "text/plain": [
              "      variables       VIF\n",
              "0          blue  1.843478\n",
              "1      dual_sim  1.857770\n",
              "2        four_g  3.180902\n",
              "3       three_g  5.222570\n",
              "4  touch_screen  1.870131\n",
              "5          wifi  1.853414\n",
              "6       n_cores  3.338972"
            ]
          },
          "metadata": {
            "tags": []
          },
          "execution_count": 429
        }
      ]
    },
    {
      "cell_type": "markdown",
      "metadata": {
        "id": "gx_Cd6351qvZ"
      },
      "source": [
        "Creating new feature for highly correlated variables"
      ]
    },
    {
      "cell_type": "code",
      "metadata": {
        "id": "uY3HSZ1z1vzG"
      },
      "source": [
        "# conditions = []\n",
        "new_df['3G 4G'] = new_df['four_g'] | new_df['three_g']\n",
        "# new_df['3G 4G'] = new_df.apply (lambda row: label(row), axis=1)\n"
      ],
      "execution_count": 430,
      "outputs": []
    },
    {
      "cell_type": "code",
      "metadata": {
        "colab": {
          "base_uri": "https://localhost:8080/"
        },
        "id": "-ilWE7fB9Itb",
        "outputId": "cf8a2099-0626-4418-c002-8c34ba02dee5"
      },
      "source": [
        "new_df.columns"
      ],
      "execution_count": 431,
      "outputs": [
        {
          "output_type": "execute_result",
          "data": {
            "text/plain": [
              "Index(['battery_power', 'blue', 'clock_speed', 'dual_sim', 'fc', 'four_g',\n",
              "       'int_memory', 'm_dep', 'mobile_wt', 'n_cores', 'pc', 'px_height',\n",
              "       'px_width', 'ram', 'sc_h', 'sc_w', 'talk_time', 'three_g',\n",
              "       'touch_screen', 'wifi', 'price_range', '3G 4G'],\n",
              "      dtype='object')"
            ]
          },
          "metadata": {
            "tags": []
          },
          "execution_count": 431
        }
      ]
    },
    {
      "cell_type": "code",
      "metadata": {
        "colab": {
          "base_uri": "https://localhost:8080/"
        },
        "id": "imNNqHz-CIMC",
        "outputId": "a4bf772c-1d9b-46cd-b4e4-c6827fd16d34"
      },
      "source": [
        "df.columns"
      ],
      "execution_count": 432,
      "outputs": [
        {
          "output_type": "execute_result",
          "data": {
            "text/plain": [
              "Index(['battery_power', 'blue', 'clock_speed', 'dual_sim', 'fc', 'four_g',\n",
              "       'int_memory', 'm_dep', 'mobile_wt', 'n_cores', 'pc', 'px_height',\n",
              "       'px_width', 'ram', 'sc_h', 'sc_w', 'talk_time', 'three_g',\n",
              "       'touch_screen', 'wifi', 'price_range'],\n",
              "      dtype='object')"
            ]
          },
          "metadata": {
            "tags": []
          },
          "execution_count": 432
        }
      ]
    },
    {
      "cell_type": "code",
      "metadata": {
        "colab": {
          "base_uri": "https://localhost:8080/",
          "height": 0
        },
        "id": "FiaFjQJJ8cj_",
        "outputId": "7560345f-6a86-438a-80ad-f2672bafa77d"
      },
      "source": [
        "freq_df = new_df.groupby('price_range')['3G 4G'].value_counts().unstack(0)\n",
        "pct_df = freq_df.divide(freq_df.sum(axis=1), axis=0)*100\n",
        "pct_df.plot(kind=\"bar\")\n",
        "plt.ylim(0,100)\n",
        "plt.ylabel('Percentage')\n",
        "plt.xticks(rotation=0)\n",
        "plt.show();"
      ],
      "execution_count": 433,
      "outputs": [
        {
          "output_type": "display_data",
          "data": {
            "image/png": "[encoded data removed]",
            "text/plain": [
              "<Figure size 432x288 with 1 Axes>"
            ]
          },
          "metadata": {
            "tags": [],
            "needs_background": "light"
          }
        }
      ]
    },
    {
      "cell_type": "code",
      "metadata": {
        "id": "1LHo78tv9QRm"
      },
      "source": [
        "new_categorical_variables = ['blue','dual_sim','3G 4G', 'touch_screen', 'wifi','n_cores']"
      ],
      "execution_count": 434,
      "outputs": []
    },
    {
      "cell_type": "markdown",
      "metadata": {
        "id": "iVnNPJc61jsP"
      },
      "source": [
        "#### We can see that both four_g and three_g are highly correlated"
      ]
    },
    {
      "cell_type": "markdown",
      "metadata": {
        "id": "CTK7OXUjEp6r"
      },
      "source": [
        "## Continuous Variables"
      ]
    },
    {
      "cell_type": "code",
      "metadata": {
        "colab": {
          "base_uri": "https://localhost:8080/"
        },
        "id": "YsDgLNqXEyWR",
        "outputId": "b76541a1-5a6d-4f06-e658-0da8c11095b4"
      },
      "source": [
        "new_df.columns"
      ],
      "execution_count": 435,
      "outputs": [
        {
          "output_type": "execute_result",
          "data": {
            "text/plain": [
              "Index(['battery_power', 'blue', 'clock_speed', 'dual_sim', 'fc', 'four_g',\n",
              "       'int_memory', 'm_dep', 'mobile_wt', 'n_cores', 'pc', 'px_height',\n",
              "       'px_width', 'ram', 'sc_h', 'sc_w', 'talk_time', 'three_g',\n",
              "       'touch_screen', 'wifi', 'price_range', '3G 4G'],\n",
              "      dtype='object')"
            ]
          },
          "metadata": {
            "tags": []
          },
          "execution_count": 435
        }
      ]
    },
    {
      "cell_type": "code",
      "metadata": {
        "id": "A2xfpAY6EuUZ"
      },
      "source": [
        "continuous_variables = ['battery_power','clock_speed', 'fc',\n",
        "       'int_memory', 'm_dep', 'mobile_wt','pc', 'px_height',\n",
        "       'px_width', 'ram', 'sc_h', 'sc_w', 'talk_time','price_range']"
      ],
      "execution_count": 436,
      "outputs": []
    },
    {
      "cell_type": "markdown",
      "metadata": {
        "id": "XhmTNsogX9zP"
      },
      "source": [
        "### How continuous variables are affected by price range?"
      ]
    },
    {
      "cell_type": "code",
      "metadata": {
        "colab": {
          "base_uri": "https://localhost:8080/",
          "height": 297
        },
        "id": "79Fg5EhGw-q1",
        "outputId": "ae72915c-1299-4d63-ecd0-2a099b47f966"
      },
      "source": [
        "sns.pointplot(y=\"sc_w\", x=\"price_range\", data=new_df)\n"
      ],
      "execution_count": 437,
      "outputs": [
        {
          "output_type": "execute_result",
          "data": {
            "text/plain": [
              "<matplotlib.axes._subplots.AxesSubplot at 0x7f60898b0490>"
            ]
          },
          "metadata": {
            "tags": []
          },
          "execution_count": 437
        },
        {
          "output_type": "display_data",
          "data": {
            "image/png": "[encoded data removed]",
            "text/plain": [
              "<Figure size 432x288 with 1 Axes>"
            ]
          },
          "metadata": {
            "tags": [],
            "needs_background": "light"
          }
        }
      ]
    },
    {
      "cell_type": "code",
      "metadata": {
        "colab": {
          "base_uri": "https://localhost:8080/",
          "height": 297
        },
        "id": "tDgGIRsRw5Ik",
        "outputId": "73b77172-975c-44e2-b29a-e14882c55f93"
      },
      "source": [
        "sns.pointplot(y=\"sc_h\", x=\"price_range\", data=new_df)\n"
      ],
      "execution_count": 438,
      "outputs": [
        {
          "output_type": "execute_result",
          "data": {
            "text/plain": [
              "<matplotlib.axes._subplots.AxesSubplot at 0x7f6089b56a90>"
            ]
          },
          "metadata": {
            "tags": []
          },
          "execution_count": 438
        },
        {
          "output_type": "display_data",
          "data": {
            "image/png": "[encoded data removed]",
            "text/plain": [
              "<Figure size 432x288 with 1 Axes>"
            ]
          },
          "metadata": {
            "tags": [],
            "needs_background": "light"
          }
        }
      ]
    },
    {
      "cell_type": "code",
      "metadata": {
        "colab": {
          "base_uri": "https://localhost:8080/",
          "height": 297
        },
        "id": "4HQt2ml_wxAA",
        "outputId": "ab37ea60-fc66-4fce-bc65-ab5594a5137f"
      },
      "source": [
        "sns.pointplot(y=\"px_width\", x=\"price_range\", data=new_df)\n"
      ],
      "execution_count": 439,
      "outputs": [
        {
          "output_type": "execute_result",
          "data": {
            "text/plain": [
              "<matplotlib.axes._subplots.AxesSubplot at 0x7f6089f707d0>"
            ]
          },
          "metadata": {
            "tags": []
          },
          "execution_count": 439
        },
        {
          "output_type": "display_data",
          "data": {
            "image/png": "[encoded data removed]",
            "text/plain": [
              "<Figure size 432x288 with 1 Axes>"
            ]
          },
          "metadata": {
            "tags": [],
            "needs_background": "light"
          }
        }
      ]
    },
    {
      "cell_type": "code",
      "metadata": {
        "colab": {
          "base_uri": "https://localhost:8080/",
          "height": 297
        },
        "id": "rEHqmHKkwrqG",
        "outputId": "c064a9c8-267c-4365-bf40-173a3411acb5"
      },
      "source": [
        "sns.pointplot(y=\"px_height\", x=\"price_range\", data=new_df)\n"
      ],
      "execution_count": 440,
      "outputs": [
        {
          "output_type": "execute_result",
          "data": {
            "text/plain": [
              "<matplotlib.axes._subplots.AxesSubplot at 0x7f608a34a990>"
            ]
          },
          "metadata": {
            "tags": []
          },
          "execution_count": 440
        },
        {
          "output_type": "display_data",
          "data": {
            "image/png": "[encoded data removed]",
            "text/plain": [
              "<Figure size 432x288 with 1 Axes>"
            ]
          },
          "metadata": {
            "tags": [],
            "needs_background": "light"
          }
        }
      ]
    },
    {
      "cell_type": "code",
      "metadata": {
        "colab": {
          "base_uri": "https://localhost:8080/",
          "height": 297
        },
        "id": "yeVv2j9WwmMU",
        "outputId": "0fde50da-f5ec-4f6f-9556-f802dd863f57"
      },
      "source": [
        "sns.pointplot(y=\"pc\", x=\"price_range\", data=new_df)\n"
      ],
      "execution_count": 441,
      "outputs": [
        {
          "output_type": "execute_result",
          "data": {
            "text/plain": [
              "<matplotlib.axes._subplots.AxesSubplot at 0x7f6089a7ec10>"
            ]
          },
          "metadata": {
            "tags": []
          },
          "execution_count": 441
        },
        {
          "output_type": "display_data",
          "data": {
            "image/png": "[encoded data removed]",
            "text/plain": [
              "<Figure size 432x288 with 1 Axes>"
            ]
          },
          "metadata": {
            "tags": [],
            "needs_background": "light"
          }
        }
      ]
    },
    {
      "cell_type": "code",
      "metadata": {
        "colab": {
          "base_uri": "https://localhost:8080/",
          "height": 299
        },
        "id": "aEYqHMxkwgrT",
        "outputId": "971b55d1-29b1-4f64-ec57-136af8b90e35"
      },
      "source": [
        "sns.pointplot(y=\"n_cores\", x=\"price_range\", data=new_df)\n"
      ],
      "execution_count": 442,
      "outputs": [
        {
          "output_type": "execute_result",
          "data": {
            "text/plain": [
              "<matplotlib.axes._subplots.AxesSubplot at 0x7f608983a610>"
            ]
          },
          "metadata": {
            "tags": []
          },
          "execution_count": 442
        },
        {
          "output_type": "display_data",
          "data": {
            "image/png": "[encoded data removed]",
            "text/plain": [
              "<Figure size 432x288 with 1 Axes>"
            ]
          },
          "metadata": {
            "tags": [],
            "needs_background": "light"
          }
        }
      ]
    },
    {
      "cell_type": "code",
      "metadata": {
        "colab": {
          "base_uri": "https://localhost:8080/",
          "height": 297
        },
        "id": "kKNpXqC6wRRe",
        "outputId": "cd103b2f-7d43-4634-8d0f-7a584725798e"
      },
      "source": [
        "sns.pointplot(y=\"mobile_wt\", x=\"price_range\", data=new_df)\n"
      ],
      "execution_count": 443,
      "outputs": [
        {
          "output_type": "execute_result",
          "data": {
            "text/plain": [
              "<matplotlib.axes._subplots.AxesSubplot at 0x7f60897cef50>"
            ]
          },
          "metadata": {
            "tags": []
          },
          "execution_count": 443
        },
        {
          "output_type": "display_data",
          "data": {
            "image/png": "[encoded data removed]",
            "text/plain": [
              "<Figure size 432x288 with 1 Axes>"
            ]
          },
          "metadata": {
            "tags": [],
            "needs_background": "light"
          }
        }
      ]
    },
    {
      "cell_type": "code",
      "metadata": {
        "colab": {
          "base_uri": "https://localhost:8080/",
          "height": 297
        },
        "id": "KobtfOUZwWP7",
        "outputId": "b02147e2-a655-4e36-fa82-71c11f1ea82f"
      },
      "source": [
        "sns.pointplot(y=\"battery_power\", x=\"price_range\", data=new_df)\n"
      ],
      "execution_count": 444,
      "outputs": [
        {
          "output_type": "execute_result",
          "data": {
            "text/plain": [
              "<matplotlib.axes._subplots.AxesSubplot at 0x7f60897a7790>"
            ]
          },
          "metadata": {
            "tags": []
          },
          "execution_count": 444
        },
        {
          "output_type": "display_data",
          "data": {
            "image/png": "[encoded data removed]",
            "text/plain": [
              "<Figure size 432x288 with 1 Axes>"
            ]
          },
          "metadata": {
            "tags": [],
            "needs_background": "light"
          }
        }
      ]
    },
    {
      "cell_type": "code",
      "metadata": {
        "colab": {
          "base_uri": "https://localhost:8080/",
          "height": 297
        },
        "id": "OCtx8TliqlH7",
        "outputId": "65731fc7-a68c-4ea7-dcc5-24f32c4165a2"
      },
      "source": [
        "# df.plot(x='price_range', y='battery_power', kind='scatter')\n",
        "# plt.show()\n",
        "\n",
        "sns.pointplot(y=\"m_dep\", x=\"price_range\", data=new_df)\n"
      ],
      "execution_count": 445,
      "outputs": [
        {
          "output_type": "execute_result",
          "data": {
            "text/plain": [
              "<matplotlib.axes._subplots.AxesSubplot at 0x7f608979ec10>"
            ]
          },
          "metadata": {
            "tags": []
          },
          "execution_count": 445
        },
        {
          "output_type": "display_data",
          "data": {
            "image/png": "[encoded data removed]",
            "text/plain": [
              "<Figure size 432x288 with 1 Axes>"
            ]
          },
          "metadata": {
            "tags": [],
            "needs_background": "light"
          }
        }
      ]
    },
    {
      "cell_type": "code",
      "metadata": {
        "colab": {
          "base_uri": "https://localhost:8080/",
          "height": 297
        },
        "id": "1Yle4PqGp0tx",
        "outputId": "ceeff976-ef8d-4d31-dc83-843c384aab46"
      },
      "source": [
        "# df.plot(x='price_range', y='clock_speed', kind='scatter')\n",
        "# plt.show()\n",
        "sns.pointplot(y=\"clock_speed\", x=\"price_range\", data=new_df)\n"
      ],
      "execution_count": 446,
      "outputs": [
        {
          "output_type": "execute_result",
          "data": {
            "text/plain": [
              "<matplotlib.axes._subplots.AxesSubplot at 0x7f608967d750>"
            ]
          },
          "metadata": {
            "tags": []
          },
          "execution_count": 446
        },
        {
          "output_type": "display_data",
          "data": {
            "image/png": "[encoded data removed]",
            "text/plain": [
              "<Figure size 432x288 with 1 Axes>"
            ]
          },
          "metadata": {
            "tags": [],
            "needs_background": "light"
          }
        }
      ]
    },
    {
      "cell_type": "code",
      "metadata": {
        "colab": {
          "base_uri": "https://localhost:8080/",
          "height": 297
        },
        "id": "3xXHlbpNrfOI",
        "outputId": "a5eec0e4-92b1-482f-9fe2-9c59b30922ad"
      },
      "source": [
        "# df.plot(x='price_range', y='fc', kind='scatter')\n",
        "# plt.show()\n",
        "\n",
        "sns.pointplot(y=\"fc\", x=\"price_range\", data=new_df)\n"
      ],
      "execution_count": 447,
      "outputs": [
        {
          "output_type": "execute_result",
          "data": {
            "text/plain": [
              "<matplotlib.axes._subplots.AxesSubplot at 0x7f60895fd150>"
            ]
          },
          "metadata": {
            "tags": []
          },
          "execution_count": 447
        },
        {
          "output_type": "display_data",
          "data": {
            "image/png": "[encoded data removed]",
            "text/plain": [
              "<Figure size 432x288 with 1 Axes>"
            ]
          },
          "metadata": {
            "tags": [],
            "needs_background": "light"
          }
        }
      ]
    },
    {
      "cell_type": "code",
      "metadata": {
        "colab": {
          "base_uri": "https://localhost:8080/",
          "height": 297
        },
        "id": "raAOA2aJroxY",
        "outputId": "ffafed4e-a312-49c0-d0f1-9223de1658f7"
      },
      "source": [
        "sns.pointplot(y=\"talk_time\", x=\"price_range\", data=new_df)\n"
      ],
      "execution_count": 448,
      "outputs": [
        {
          "output_type": "execute_result",
          "data": {
            "text/plain": [
              "<matplotlib.axes._subplots.AxesSubplot at 0x7f608a4a8e10>"
            ]
          },
          "metadata": {
            "tags": []
          },
          "execution_count": 448
        },
        {
          "output_type": "display_data",
          "data": {
            "image/png": "[encoded data removed]",
            "text/plain": [
              "<Figure size 432x288 with 1 Axes>"
            ]
          },
          "metadata": {
            "tags": [],
            "needs_background": "light"
          }
        }
      ]
    },
    {
      "cell_type": "code",
      "metadata": {
        "colab": {
          "base_uri": "https://localhost:8080/",
          "height": 297
        },
        "id": "6v0PKTADrzSl",
        "outputId": "203ad7d7-cb26-49f6-9da3-325df644e514"
      },
      "source": [
        "sns.pointplot(y=\"int_memory\", x=\"price_range\", data=new_df)\n"
      ],
      "execution_count": 449,
      "outputs": [
        {
          "output_type": "execute_result",
          "data": {
            "text/plain": [
              "<matplotlib.axes._subplots.AxesSubplot at 0x7f608a448990>"
            ]
          },
          "metadata": {
            "tags": []
          },
          "execution_count": 449
        },
        {
          "output_type": "display_data",
          "data": {
            "image/png": "[encoded data removed]",
            "text/plain": [
              "<Figure size 432x288 with 1 Axes>"
            ]
          },
          "metadata": {
            "tags": [],
            "needs_background": "light"
          }
        }
      ]
    },
    {
      "cell_type": "code",
      "metadata": {
        "colab": {
          "base_uri": "https://localhost:8080/",
          "height": 279
        },
        "id": "yilF8AKoaqvH",
        "outputId": "e56d7c3e-f38f-4633-8253-8d0308702a96"
      },
      "source": [
        "# plt.figure(figsize=(20,10))\n",
        "sns.pointplot(y=\"ram\", x=\"price_range\", data=new_df)\n",
        "plt.show()"
      ],
      "execution_count": 450,
      "outputs": [
        {
          "output_type": "display_data",
          "data": {
            "image/png": "[encoded data removed]",
            "text/plain": [
              "<Figure size 432x288 with 1 Axes>"
            ]
          },
          "metadata": {
            "tags": [],
            "needs_background": "light"
          }
        }
      ]
    },
    {
      "cell_type": "code",
      "metadata": {
        "colab": {
          "base_uri": "https://localhost:8080/",
          "height": 649
        },
        "id": "k2Dc9GjOxIYg",
        "outputId": "9b71f0a1-d73e-4a8a-cbe9-6aaa246919d0"
      },
      "source": [
        "plt.figure(figsize=(14,10))\n",
        "sns.heatmap(new_df[continuous_variables].corr(), annot=True, fmt=\".2f\",cmap = 'Purples');\n"
      ],
      "execution_count": 451,
      "outputs": [
        {
          "output_type": "display_data",
          "data": {
            "image/png": "[encoded data removed]",
            "text/plain": [
              "<Figure size 1008x720 with 2 Axes>"
            ]
          },
          "metadata": {
            "tags": [],
            "needs_background": "light"
          }
        }
      ]
    },
    {
      "cell_type": "code",
      "metadata": {
        "id": "fNI-p_6DLz4j"
      },
      "source": [
        "def calc_vif(X):\n",
        "    vif = pd.DataFrame()\n",
        "    vif[\"variables\"] = X.columns\n",
        "    vif[\"VIF\"] = [variance_inflation_factor(X.values, i) for i in range(X.shape[1])]\n",
        "    return(vif)"
      ],
      "execution_count": 452,
      "outputs": []
    },
    {
      "cell_type": "code",
      "metadata": {
        "colab": {
          "base_uri": "https://localhost:8080/",
          "height": 468
        },
        "id": "23O_kSFTFvp_",
        "outputId": "bb5a9e64-06ae-4f8e-e701-aa7c05a0b1cc"
      },
      "source": [
        "calc_vif(new_df[continuous_variables])"
      ],
      "execution_count": 453,
      "outputs": [
        {
          "output_type": "execute_result",
          "data": {
            "text/html": [
              "<div>\n",
              "<style scoped>\n",
              "    .dataframe tbody tr th:only-of-type {\n",
              "        vertical-align: middle;\n",
              "    }\n",
              "\n",
              "    .dataframe tbody tr th {\n",
              "        vertical-align: top;\n",
              "    }\n",
              "\n",
              "    .dataframe thead th {\n",
              "        text-align: right;\n",
              "    }\n",
              "</style>\n",
              "<table border=\"1\" class=\"dataframe\">\n",
              "  <thead>\n",
              "    <tr style=\"text-align: right;\">\n",
              "      <th></th>\n",
              "      <th>variables</th>\n",
              "      <th>VIF</th>\n",
              "    </tr>\n",
              "  </thead>\n",
              "  <tbody>\n",
              "    <tr>\n",
              "      <th>0</th>\n",
              "      <td>battery_power</td>\n",
              "      <td>9.349493</td>\n",
              "    </tr>\n",
              "    <tr>\n",
              "      <th>1</th>\n",
              "      <td>clock_speed</td>\n",
              "      <td>4.316060</td>\n",
              "    </tr>\n",
              "    <tr>\n",
              "      <th>2</th>\n",
              "      <td>fc</td>\n",
              "      <td>3.379536</td>\n",
              "    </tr>\n",
              "    <tr>\n",
              "      <th>3</th>\n",
              "      <td>int_memory</td>\n",
              "      <td>3.958702</td>\n",
              "    </tr>\n",
              "    <tr>\n",
              "      <th>4</th>\n",
              "      <td>m_dep</td>\n",
              "      <td>3.938602</td>\n",
              "    </tr>\n",
              "    <tr>\n",
              "      <th>5</th>\n",
              "      <td>mobile_wt</td>\n",
              "      <td>14.416305</td>\n",
              "    </tr>\n",
              "    <tr>\n",
              "      <th>6</th>\n",
              "      <td>pc</td>\n",
              "      <td>6.106546</td>\n",
              "    </tr>\n",
              "    <tr>\n",
              "      <th>7</th>\n",
              "      <td>px_height</td>\n",
              "      <td>4.573888</td>\n",
              "    </tr>\n",
              "    <tr>\n",
              "      <th>8</th>\n",
              "      <td>px_width</td>\n",
              "      <td>11.453119</td>\n",
              "    </tr>\n",
              "    <tr>\n",
              "      <th>9</th>\n",
              "      <td>ram</td>\n",
              "      <td>37.042677</td>\n",
              "    </tr>\n",
              "    <tr>\n",
              "      <th>10</th>\n",
              "      <td>sc_h</td>\n",
              "      <td>11.716366</td>\n",
              "    </tr>\n",
              "    <tr>\n",
              "      <th>11</th>\n",
              "      <td>sc_w</td>\n",
              "      <td>3.705867</td>\n",
              "    </tr>\n",
              "    <tr>\n",
              "      <th>12</th>\n",
              "      <td>talk_time</td>\n",
              "      <td>4.879588</td>\n",
              "    </tr>\n",
              "    <tr>\n",
              "      <th>13</th>\n",
              "      <td>price_range</td>\n",
              "      <td>24.363904</td>\n",
              "    </tr>\n",
              "  </tbody>\n",
              "</table>\n",
              "</div>"
            ],
            "text/plain": [
              "        variables        VIF\n",
              "0   battery_power   9.349493\n",
              "1     clock_speed   4.316060\n",
              "2              fc   3.379536\n",
              "3      int_memory   3.958702\n",
              "4           m_dep   3.938602\n",
              "5       mobile_wt  14.416305\n",
              "6              pc   6.106546\n",
              "7       px_height   4.573888\n",
              "8        px_width  11.453119\n",
              "9             ram  37.042677\n",
              "10           sc_h  11.716366\n",
              "11           sc_w   3.705867\n",
              "12      talk_time   4.879588\n",
              "13    price_range  24.363904"
            ]
          },
          "metadata": {
            "tags": []
          },
          "execution_count": 453
        }
      ]
    },
    {
      "cell_type": "code",
      "metadata": {
        "id": "phWOfH87GbfW"
      },
      "source": [
        ""
      ],
      "execution_count": 453,
      "outputs": []
    },
    {
      "cell_type": "markdown",
      "metadata": {
        "id": "gzAkR8JGNAMa"
      },
      "source": [
        "High correlation between:\n",
        "\n",
        "pc and fc around 0.6\n",
        "\n",
        "px_width and px_height around 0.5\n",
        "\n",
        "sc_h and sc_w around 0.5\n",
        "\n",
        "price_range and ram around 0.9"
      ]
    },
    {
      "cell_type": "markdown",
      "metadata": {
        "id": "BOrUm3iHyFBD"
      },
      "source": [
        "### Creating new features with high correlation"
      ]
    },
    {
      "cell_type": "code",
      "metadata": {
        "id": "xSwrFAu0yO60"
      },
      "source": [
        "# new_df['total cam pixels'] = df['pc'] + df['fc']"
      ],
      "execution_count": 454,
      "outputs": []
    },
    {
      "cell_type": "code",
      "metadata": {
        "id": "pkK8qm6Byb4r"
      },
      "source": [
        "new_df['area'] = (new_df['sc_h']*new_df['sc_w'])**0.5"
      ],
      "execution_count": 455,
      "outputs": []
    },
    {
      "cell_type": "code",
      "metadata": {
        "id": "RIK_2RHCy_GS"
      },
      "source": [
        "new_df['pixel_area'] = (new_df['px_height']*new_df['px_width'])**0.5"
      ],
      "execution_count": 456,
      "outputs": []
    },
    {
      "cell_type": "code",
      "metadata": {
        "id": "lRl2A4xB9bRe"
      },
      "source": [
        "new_continuous_variables = ['battery_power','clock_speed', 'pc','fc','area','pixel_area',\n",
        "       'int_memory', 'm_dep', 'mobile_wt',  'ram', 'talk_time','price_range']"
      ],
      "execution_count": 457,
      "outputs": []
    },
    {
      "cell_type": "code",
      "metadata": {
        "colab": {
          "base_uri": "https://localhost:8080/"
        },
        "id": "dPUiJGonRC_Z",
        "outputId": "65336614-7f4e-4414-de85-6cf4845915fa"
      },
      "source": [
        "new_df.columns"
      ],
      "execution_count": 458,
      "outputs": [
        {
          "output_type": "execute_result",
          "data": {
            "text/plain": [
              "Index(['battery_power', 'blue', 'clock_speed', 'dual_sim', 'fc', 'four_g',\n",
              "       'int_memory', 'm_dep', 'mobile_wt', 'n_cores', 'pc', 'px_height',\n",
              "       'px_width', 'ram', 'sc_h', 'sc_w', 'talk_time', 'three_g',\n",
              "       'touch_screen', 'wifi', 'price_range', '3G 4G', 'area', 'pixel_area'],\n",
              "      dtype='object')"
            ]
          },
          "metadata": {
            "tags": []
          },
          "execution_count": 458
        }
      ]
    },
    {
      "cell_type": "code",
      "metadata": {
        "colab": {
          "base_uri": "https://localhost:8080/",
          "height": 649
        },
        "id": "Tzy0pvZ6BnNg",
        "outputId": "87f7b8c8-5f74-4dbb-e169-1b8ed6a411b0"
      },
      "source": [
        "plt.figure(figsize=(14,10))\n",
        "sns.heatmap(new_df[new_continuous_variables].corr(), annot=True, fmt=\".2f\",cmap = 'Purples');"
      ],
      "execution_count": 459,
      "outputs": [
        {
          "output_type": "display_data",
          "data": {
            "image/png": "[encoded data removed]",
            "text/plain": [
              "<Figure size 1008x720 with 2 Axes>"
            ]
          },
          "metadata": {
            "tags": [],
            "needs_background": "light"
          }
        }
      ]
    },
    {
      "cell_type": "code",
      "metadata": {
        "id": "gvt2wbdETMYf"
      },
      "source": [
        "# fig = plt.figure(figsize =(10, 10))\n",
        "# boxplot = df.boxplot(column=['blue'])\n",
        "\n",
        "# plt.show()"
      ],
      "execution_count": 460,
      "outputs": []
    },
    {
      "cell_type": "markdown",
      "metadata": {
        "id": "j73uN-VwyR02"
      },
      "source": [
        "## Splitting the data"
      ]
    },
    {
      "cell_type": "code",
      "metadata": {
        "colab": {
          "base_uri": "https://localhost:8080/"
        },
        "id": "aCfkm8MaSBPQ",
        "outputId": "8a63a149-3864-470e-f229-50c6c5aa4df7"
      },
      "source": [
        "new_df.columns\n"
      ],
      "execution_count": 461,
      "outputs": [
        {
          "output_type": "execute_result",
          "data": {
            "text/plain": [
              "Index(['battery_power', 'blue', 'clock_speed', 'dual_sim', 'fc', 'four_g',\n",
              "       'int_memory', 'm_dep', 'mobile_wt', 'n_cores', 'pc', 'px_height',\n",
              "       'px_width', 'ram', 'sc_h', 'sc_w', 'talk_time', 'three_g',\n",
              "       'touch_screen', 'wifi', 'price_range', '3G 4G', 'area', 'pixel_area'],\n",
              "      dtype='object')"
            ]
          },
          "metadata": {
            "tags": []
          },
          "execution_count": 461
        }
      ]
    },
    {
      "cell_type": "code",
      "metadata": {
        "colab": {
          "base_uri": "https://localhost:8080/"
        },
        "id": "GZynjq87SgLJ",
        "outputId": "bcc02c81-ac3a-497f-ed88-6a8634babea3"
      },
      "source": [
        "new_df[new_continuous_variables].columns"
      ],
      "execution_count": 462,
      "outputs": [
        {
          "output_type": "execute_result",
          "data": {
            "text/plain": [
              "Index(['battery_power', 'clock_speed', 'pc', 'fc', 'area', 'pixel_area',\n",
              "       'int_memory', 'm_dep', 'mobile_wt', 'ram', 'talk_time', 'price_range'],\n",
              "      dtype='object')"
            ]
          },
          "metadata": {
            "tags": []
          },
          "execution_count": 462
        }
      ]
    },
    {
      "cell_type": "code",
      "metadata": {
        "colab": {
          "base_uri": "https://localhost:8080/"
        },
        "id": "RvZ4kk-OU1KT",
        "outputId": "73e14a15-bdcb-4d9a-93f4-a2bf4e3d1437"
      },
      "source": [
        "new_df[new_categorical_variables].columns"
      ],
      "execution_count": 463,
      "outputs": [
        {
          "output_type": "execute_result",
          "data": {
            "text/plain": [
              "Index(['blue', 'dual_sim', '3G 4G', 'touch_screen', 'wifi', 'n_cores'], dtype='object')"
            ]
          },
          "metadata": {
            "tags": []
          },
          "execution_count": 463
        }
      ]
    },
    {
      "cell_type": "code",
      "metadata": {
        "id": "cq_BZdWPvmhe"
      },
      "source": [
        "from sklearn import preprocessing\n",
        "from sklearn import utils\n",
        "from sklearn.preprocessing import StandardScaler\n",
        "from sklearn.pipeline import Pipeline\n",
        "from sklearn.model_selection import GridSearchCV, cross_val_score\n",
        "from sklearn.preprocessing import StandardScaler\n",
        "\n",
        "\n",
        "import pandas as pd\n",
        "\n",
        "lab_enc = preprocessing.LabelEncoder()\n",
        "# scaler = StandardScaler()\n",
        "# scaler = preprocessing.StandardScaler().fit(X_train)\n",
        "\n",
        "\n",
        "\n",
        "# # housing = pd.read_csv(\"/content/sample_data/california_housing_train.csv\")\n",
        "# d = preprocessing.normalize(new_df[new_continuous_variables])\n",
        "# scaled_df1 = pd.DataFrame(d, columns = ['battery_power', 'clock_speed', 'pc', 'fc', 'area', 'pixel_area',\n",
        "#        'int_memory', 'm_dep', 'mobile_wt', 'ram', 'talk_time', 'price_range'])\n",
        "# d1 = preprocessing.normalize(new_df[new_categorical_variables])\n",
        "# scaled_df2 =  pd.DataFrame(d1, columns =['blue', 'dual_sim', '3G 4G', 'touch_screen', 'wifi', 'n_cores'])\n",
        "# # scaled_df.head()/"
      ],
      "execution_count": 464,
      "outputs": []
    },
    {
      "cell_type": "code",
      "metadata": {
        "id": "gsuo9GPsyQ9G"
      },
      "source": [
        "X = new_df.drop([\"price_range\"], axis=1)\n",
        "y = new_df[\"price_range\"]\n",
        "\n",
        "X_train, X_test, y_train, y_test = train_test_split(X,y, test_size=0.2, random_state=42)"
      ],
      "execution_count": 465,
      "outputs": []
    },
    {
      "cell_type": "code",
      "metadata": {
        "id": "Jf0sEsa6HYRV"
      },
      "source": [
        "# scaler = preprocessing.StandardScaler().fit(X_train)\n",
        "# X_train_scaled = scaler.transform(X_train)\n",
        "# # new_data = np.array([-1.,  1., 0.])    \n",
        "# new_data_scaled = scaler.transform(new_data)\n",
        "\n",
        "# sc = StandardScaler()\n",
        "# X_train = sc.fit_transform(X_train)\n",
        "# X_test = sc.transform(X_test)\n"
      ],
      "execution_count": 466,
      "outputs": []
    },
    {
      "cell_type": "code",
      "metadata": {
        "id": "oDUhZA3xPgU4"
      },
      "source": [
        "from sklearn.tree import DecisionTreeClassifier\n",
        "dtree = DecisionTreeClassifier()"
      ],
      "execution_count": 467,
      "outputs": []
    },
    {
      "cell_type": "code",
      "metadata": {
        "id": "tnFMaKntM6CY"
      },
      "source": [
        "pipe = Pipeline(steps=[(\"dtreeClf\", dtree)])"
      ],
      "execution_count": 468,
      "outputs": []
    },
    {
      "cell_type": "code",
      "metadata": {
        "id": "eehKGJU3NRqx"
      },
      "source": [
        "# clf = GridSearchCV(pipe)\n",
        "# clf.fit(X_train,y_train)"
      ],
      "execution_count": 469,
      "outputs": []
    },
    {
      "cell_type": "code",
      "metadata": {
        "colab": {
          "base_uri": "https://localhost:8080/"
        },
        "id": "6ZFKyGOIPjc1",
        "outputId": "8f95530b-1a84-4f54-d8e7-3a9b62c409ab"
      },
      "source": [
        "dtree.fit(X_train,y_train)"
      ],
      "execution_count": 470,
      "outputs": [
        {
          "output_type": "execute_result",
          "data": {
            "text/plain": [
              "DecisionTreeClassifier(ccp_alpha=0.0, class_weight=None, criterion='gini',\n",
              "                       max_depth=None, max_features=None, max_leaf_nodes=None,\n",
              "                       min_impurity_decrease=0.0, min_impurity_split=None,\n",
              "                       min_samples_leaf=1, min_samples_split=2,\n",
              "                       min_weight_fraction_leaf=0.0, presort='deprecated',\n",
              "                       random_state=None, splitter='best')"
            ]
          },
          "metadata": {
            "tags": []
          },
          "execution_count": 470
        }
      ]
    },
    {
      "cell_type": "code",
      "metadata": {
        "colab": {
          "base_uri": "https://localhost:8080/"
        },
        "id": "HLtlLstYPm-K",
        "outputId": "b9b949d7-1132-44ac-a4a8-fb89ed5a4853"
      },
      "source": [
        "dtree.score(X_test,y_test)"
      ],
      "execution_count": 471,
      "outputs": [
        {
          "output_type": "execute_result",
          "data": {
            "text/plain": [
              "0.8434343434343434"
            ]
          },
          "metadata": {
            "tags": []
          },
          "execution_count": 471
        }
      ]
    },
    {
      "cell_type": "code",
      "metadata": {
        "id": "_LT0KBSESNJi"
      },
      "source": [
        "# importances = pd.DataFrame({\n",
        "#     'Feature': new_df.drop('price_range', axis=1).columns,\n",
        "#     'Importance': dtree.feature_importances_\n",
        "\n",
        "# })\n",
        "# importances = importances.sort_values(by='Importance', ascending=False)\n",
        "# importances = importances.set_index('Feature')\n",
        "# importances\n"
      ],
      "execution_count": 472,
      "outputs": []
    },
    {
      "cell_type": "markdown",
      "metadata": {
        "id": "4p4npoLEm8y1"
      },
      "source": [
        "## Using K Nearest Neighbours"
      ]
    },
    {
      "cell_type": "code",
      "metadata": {
        "colab": {
          "base_uri": "https://localhost:8080/",
          "height": 421
        },
        "id": "4aUAEgRziRlV",
        "outputId": "d6156662-da2a-44fd-de42-79edaea9662e"
      },
      "source": [
        "# Finding the minimum error in Knn for different values of n\n",
        "error_rate = []\n",
        "for i in range(1,50):\n",
        " knn = KNeighborsClassifier(n_neighbors=i)\n",
        " knn.fit(X_train,y_train)\n",
        " pred_i = knn.predict(X_test)\n",
        " error_rate.append(np.mean(pred_i != y_test))\n",
        "\n",
        "plt.figure(figsize=(10,6))\n",
        "plt.plot(range(1,50),error_rate,color='blue', linestyle='dashed', \n",
        "         marker='o',markerfacecolor='red', markersize=10)\n",
        "plt.title('Error Rate vs. K Value')\n",
        "plt.xlabel('K')\n",
        "plt.ylabel('Error Rate')\n",
        "plt.show()\n",
        "print(\"Minimum error:-\",min(error_rate),\"at K =\",error_rate.index(min(error_rate)))"
      ],
      "execution_count": 473,
      "outputs": [
        {
          "output_type": "display_data",
          "data": {
            "image/png": "[encoded data removed]",
            "text/plain": [
              "<Figure size 720x432 with 1 Axes>"
            ]
          },
          "metadata": {
            "tags": [],
            "needs_background": "light"
          }
        },
        {
          "output_type": "stream",
          "text": [
            "Minimum error:- 0.06565656565656566 at K = 4\n"
          ],
          "name": "stdout"
        }
      ]
    },
    {
      "cell_type": "code",
      "metadata": {
        "colab": {
          "base_uri": "https://localhost:8080/",
          "height": 421
        },
        "id": "5y-CjjY3izol",
        "outputId": "b49da74c-49a5-4e42-fbba-1fcafe5437eb"
      },
      "source": [
        "# Finding maxiumn accuracy at different values of n\n",
        "acc = []\n",
        "# Will take some time\n",
        "from sklearn import metrics\n",
        "for i in range(1,50):\n",
        "    neigh = KNeighborsClassifier(n_neighbors = i).fit(X_train,y_train)\n",
        "    yhat = neigh.predict(X_test)\n",
        "    acc.append(metrics.accuracy_score(y_test, yhat))\n",
        "    \n",
        "plt.figure(figsize=(10,6))\n",
        "plt.plot(range(1,50),acc,color = 'blue',linestyle='dashed', \n",
        "         marker='o',markerfacecolor='red', markersize=10)\n",
        "plt.title('accuracy vs. K Value')\n",
        "plt.xlabel('K')\n",
        "plt.ylabel('Accuracy')\n",
        "print(\"Maximum accuracy:-\",max(acc),\"at K =\",acc.index(max(acc)))"
      ],
      "execution_count": 474,
      "outputs": [
        {
          "output_type": "stream",
          "text": [
            "Maximum accuracy:- 0.9343434343434344 at K = 4\n"
          ],
          "name": "stdout"
        },
        {
          "output_type": "display_data",
          "data": {
            "image/png": "[encoded data removed]",
            "text/plain": [
              "<Figure size 720x432 with 1 Axes>"
            ]
          },
          "metadata": {
            "tags": [],
            "needs_background": "light"
          }
        }
      ]
    },
    {
      "cell_type": "code",
      "metadata": {
        "colab": {
          "base_uri": "https://localhost:8080/"
        },
        "id": "1u-nowsMjHvS",
        "outputId": "fcba3933-6699-495c-ef3b-55b4cd4a6dfc"
      },
      "source": [
        "# model scoring at n = 6\n",
        "\n",
        "knn = KNeighborsClassifier(n_neighbors = 6).fit(X_train,y_train)\n",
        "knn.score(X_test, y_test)\n"
      ],
      "execution_count": 475,
      "outputs": [
        {
          "output_type": "execute_result",
          "data": {
            "text/plain": [
              "0.9166666666666666"
            ]
          },
          "metadata": {
            "tags": []
          },
          "execution_count": 475
        }
      ]
    },
    {
      "cell_type": "code",
      "metadata": {
        "id": "fJ3_1MZGUBQL"
      },
      "source": [
        "# importances = pd.DataFrame({\n",
        "#     'Feature': new_df.drop('price_range', axis=1).columns,\n",
        "#     'Importance': knn.feature_importances_\n",
        "\n",
        "# })\n",
        "# importances = importances.sort_values(by='Importance', ascending=False)\n",
        "# importances = importances.set_index('Feature')\n",
        "# importances"
      ],
      "execution_count": 476,
      "outputs": []
    },
    {
      "cell_type": "code",
      "metadata": {
        "colab": {
          "base_uri": "https://localhost:8080/"
        },
        "id": "9wWDV5ldkmTt",
        "outputId": "7d9af498-f15f-4e27-fbb0-2eb42fb6c269"
      },
      "source": [
        "# using cross validation on knn and finding model score\n",
        "\n",
        "from sklearn.model_selection import cross_val_score\n",
        "import numpy as np\n",
        "#create a new KNN model\n",
        "knn_cv = KNeighborsClassifier(n_neighbors=6)\n",
        "#train model with cv of 5 \n",
        "cv_scores = cross_val_score(knn_cv, X, y, cv=5)\n",
        "#print each cv score (accuracy) and average them\n",
        "print(cv_scores)\n",
        "print(f'cv_scores mean:{np.mean(cv_scores)}')\n",
        "# print(classification_report(y_test, pipe.predict(X_test)))"
      ],
      "execution_count": 477,
      "outputs": [
        {
          "output_type": "stream",
          "text": [
            "[0.91161616 0.92929293 0.91161616 0.91161616 0.89646465]\n",
            "cv_scores mean:0.9121212121212121\n"
          ],
          "name": "stdout"
        }
      ]
    },
    {
      "cell_type": "code",
      "metadata": {
        "colab": {
          "base_uri": "https://localhost:8080/"
        },
        "id": "pGtXhcRRgxzm",
        "outputId": "72e2cdb5-9538-4268-dd68-b80dccc02a87"
      },
      "source": [
        "knn = KNeighborsClassifier()\n",
        "knn_params = {\"n_neighbors\" : np.arange(1,50),\n",
        "              \"leaf_size\" : np.arange(1,50)}\n",
        "cv = RepeatedStratifiedKFold(n_splits=10, n_repeats=10, random_state=1)\n",
        "random_search = RandomizedSearchCV(knn, knn_params, cv=cv, random_state=1, n_jobs=-1, verbose=2 )\n",
        "#grid_search = GridSearchCV(model, parameters, cv=cv, n_jobs=-1, verbose=2)\n",
        "pipe = make_pipeline(random_search)\n",
        "pipe.fit(X_train, y_train)\n",
        "print('                 Classification report \\n')\n",
        "\n",
        "print(classification_report(y_test, pipe.predict(X_test)))"
      ],
      "execution_count": 478,
      "outputs": [
        {
          "output_type": "stream",
          "text": [
            "Fitting 100 folds for each of 10 candidates, totalling 1000 fits\n"
          ],
          "name": "stdout"
        },
        {
          "output_type": "stream",
          "text": [
            "[Parallel(n_jobs=-1)]: Using backend LokyBackend with 2 concurrent workers.\n",
            "[Parallel(n_jobs=-1)]: Done 144 tasks      | elapsed:    2.7s\n"
          ],
          "name": "stderr"
        },
        {
          "output_type": "stream",
          "text": [
            "                 Classification report \n",
            "\n",
            "              precision    recall  f1-score   support\n",
            "\n",
            "           0       0.92      0.99      0.95       107\n",
            "           1       0.87      0.86      0.86        97\n",
            "           2       0.85      0.83      0.84        86\n",
            "           3       0.96      0.92      0.94       106\n",
            "\n",
            "    accuracy                           0.90       396\n",
            "   macro avg       0.90      0.90      0.90       396\n",
            "weighted avg       0.90      0.90      0.90       396\n",
            "\n"
          ],
          "name": "stdout"
        },
        {
          "output_type": "stream",
          "text": [
            "[Parallel(n_jobs=-1)]: Done 1000 out of 1000 | elapsed:   12.4s finished\n"
          ],
          "name": "stderr"
        }
      ]
    },
    {
      "cell_type": "code",
      "metadata": {
        "colab": {
          "base_uri": "https://localhost:8080/"
        },
        "id": "3ptDPWH6y7UW",
        "outputId": "4d5f7a8b-255f-463e-ff7f-5bc6fdfe905d"
      },
      "source": [
        "from sklearn.ensemble import RandomForestClassifier\n",
        "rfc = RandomForestClassifier(n_estimators=200)\n",
        "rfc.fit(X_train, y_train)"
      ],
      "execution_count": 479,
      "outputs": [
        {
          "output_type": "execute_result",
          "data": {
            "text/plain": [
              "RandomForestClassifier(bootstrap=True, ccp_alpha=0.0, class_weight=None,\n",
              "                       criterion='gini', max_depth=None, max_features='auto',\n",
              "                       max_leaf_nodes=None, max_samples=None,\n",
              "                       min_impurity_decrease=0.0, min_impurity_split=None,\n",
              "                       min_samples_leaf=1, min_samples_split=2,\n",
              "                       min_weight_fraction_leaf=0.0, n_estimators=200,\n",
              "                       n_jobs=None, oob_score=False, random_state=None,\n",
              "                       verbose=0, warm_start=False)"
            ]
          },
          "metadata": {
            "tags": []
          },
          "execution_count": 479
        }
      ]
    },
    {
      "cell_type": "code",
      "metadata": {
        "colab": {
          "base_uri": "https://localhost:8080/"
        },
        "id": "MoJR3CGtmehc",
        "outputId": "eed42ae7-b15e-4e6c-b6fd-5766da1b7371"
      },
      "source": [
        "rfc.score(X_test,y_test)\n"
      ],
      "execution_count": 480,
      "outputs": [
        {
          "output_type": "execute_result",
          "data": {
            "text/plain": [
              "0.8661616161616161"
            ]
          },
          "metadata": {
            "tags": []
          },
          "execution_count": 480
        }
      ]
    },
    {
      "cell_type": "code",
      "metadata": {
        "colab": {
          "base_uri": "https://localhost:8080/",
          "height": 768
        },
        "id": "6V6FZLglUdH4",
        "outputId": "89fd742c-444b-411e-ed48-1e88cf164083"
      },
      "source": [
        "importances = pd.DataFrame({\n",
        "    'Feature': new_df.drop('price_range', axis=1).columns,\n",
        "    'Importance': rfc.feature_importances_\n",
        "\n",
        "})\n",
        "importances = importances.sort_values(by='Importance', ascending=False)\n",
        "importances = importances.set_index('Feature')\n",
        "importances"
      ],
      "execution_count": 481,
      "outputs": [
        {
          "output_type": "execute_result",
          "data": {
            "text/html": [
              "<div>\n",
              "<style scoped>\n",
              "    .dataframe tbody tr th:only-of-type {\n",
              "        vertical-align: middle;\n",
              "    }\n",
              "\n",
              "    .dataframe tbody tr th {\n",
              "        vertical-align: top;\n",
              "    }\n",
              "\n",
              "    .dataframe thead th {\n",
              "        text-align: right;\n",
              "    }\n",
              "</style>\n",
              "<table border=\"1\" class=\"dataframe\">\n",
              "  <thead>\n",
              "    <tr style=\"text-align: right;\">\n",
              "      <th></th>\n",
              "      <th>Importance</th>\n",
              "    </tr>\n",
              "    <tr>\n",
              "      <th>Feature</th>\n",
              "      <th></th>\n",
              "    </tr>\n",
              "  </thead>\n",
              "  <tbody>\n",
              "    <tr>\n",
              "      <th>ram</th>\n",
              "      <td>0.441073</td>\n",
              "    </tr>\n",
              "    <tr>\n",
              "      <th>battery_power</th>\n",
              "      <td>0.066752</td>\n",
              "    </tr>\n",
              "    <tr>\n",
              "      <th>pixel_area</th>\n",
              "      <td>0.050386</td>\n",
              "    </tr>\n",
              "    <tr>\n",
              "      <th>px_width</th>\n",
              "      <td>0.047809</td>\n",
              "    </tr>\n",
              "    <tr>\n",
              "      <th>px_height</th>\n",
              "      <td>0.043739</td>\n",
              "    </tr>\n",
              "    <tr>\n",
              "      <th>mobile_wt</th>\n",
              "      <td>0.037272</td>\n",
              "    </tr>\n",
              "    <tr>\n",
              "      <th>int_memory</th>\n",
              "      <td>0.035513</td>\n",
              "    </tr>\n",
              "    <tr>\n",
              "      <th>area</th>\n",
              "      <td>0.030790</td>\n",
              "    </tr>\n",
              "    <tr>\n",
              "      <th>pc</th>\n",
              "      <td>0.029545</td>\n",
              "    </tr>\n",
              "    <tr>\n",
              "      <th>talk_time</th>\n",
              "      <td>0.028661</td>\n",
              "    </tr>\n",
              "    <tr>\n",
              "      <th>clock_speed</th>\n",
              "      <td>0.026559</td>\n",
              "    </tr>\n",
              "    <tr>\n",
              "      <th>sc_h</th>\n",
              "      <td>0.025242</td>\n",
              "    </tr>\n",
              "    <tr>\n",
              "      <th>sc_w</th>\n",
              "      <td>0.024924</td>\n",
              "    </tr>\n",
              "    <tr>\n",
              "      <th>fc</th>\n",
              "      <td>0.024520</td>\n",
              "    </tr>\n",
              "    <tr>\n",
              "      <th>m_dep</th>\n",
              "      <td>0.022625</td>\n",
              "    </tr>\n",
              "    <tr>\n",
              "      <th>n_cores</th>\n",
              "      <td>0.022362</td>\n",
              "    </tr>\n",
              "    <tr>\n",
              "      <th>wifi</th>\n",
              "      <td>0.006848</td>\n",
              "    </tr>\n",
              "    <tr>\n",
              "      <th>dual_sim</th>\n",
              "      <td>0.006843</td>\n",
              "    </tr>\n",
              "    <tr>\n",
              "      <th>blue</th>\n",
              "      <td>0.006736</td>\n",
              "    </tr>\n",
              "    <tr>\n",
              "      <th>four_g</th>\n",
              "      <td>0.006434</td>\n",
              "    </tr>\n",
              "    <tr>\n",
              "      <th>touch_screen</th>\n",
              "      <td>0.005991</td>\n",
              "    </tr>\n",
              "    <tr>\n",
              "      <th>three_g</th>\n",
              "      <td>0.004777</td>\n",
              "    </tr>\n",
              "    <tr>\n",
              "      <th>3G 4G</th>\n",
              "      <td>0.004599</td>\n",
              "    </tr>\n",
              "  </tbody>\n",
              "</table>\n",
              "</div>"
            ],
            "text/plain": [
              "               Importance\n",
              "Feature                  \n",
              "ram              0.441073\n",
              "battery_power    0.066752\n",
              "pixel_area       0.050386\n",
              "px_width         0.047809\n",
              "px_height        0.043739\n",
              "mobile_wt        0.037272\n",
              "int_memory       0.035513\n",
              "area             0.030790\n",
              "pc               0.029545\n",
              "talk_time        0.028661\n",
              "clock_speed      0.026559\n",
              "sc_h             0.025242\n",
              "sc_w             0.024924\n",
              "fc               0.024520\n",
              "m_dep            0.022625\n",
              "n_cores          0.022362\n",
              "wifi             0.006848\n",
              "dual_sim         0.006843\n",
              "blue             0.006736\n",
              "four_g           0.006434\n",
              "touch_screen     0.005991\n",
              "three_g          0.004777\n",
              "3G 4G            0.004599"
            ]
          },
          "metadata": {
            "tags": []
          },
          "execution_count": 481
        }
      ]
    },
    {
      "cell_type": "code",
      "metadata": {
        "colab": {
          "base_uri": "https://localhost:8080/"
        },
        "id": "tQZhInVwInZP",
        "outputId": "297361f6-62f1-43e0-c7a5-caacfa7fe5e7"
      },
      "source": [
        "from xgboost import XGBClassifier\n",
        "import time\n",
        "\n",
        "\n",
        "\n",
        "xgb = XGBClassifier(n_estimators=100)\n",
        "training_start = time.perf_counter()\n",
        "xgb.fit(X_train, y_train)\n",
        "training_end = time.perf_counter()\n",
        "prediction_start = time.perf_counter()\n",
        "preds = xgb.predict(X_test)\n",
        "prediction_end = time.perf_counter()\n",
        "acc_xgb = (preds == y_test).sum().astype(float) / len(preds)*100\n",
        "xgb_train_time = training_end-training_start\n",
        "xgb_prediction_time = prediction_end-prediction_start\n",
        "print(\"XGBoost's prediction accuracy is: %3.2f\" % (acc_xgb))\n",
        "print(\"Time consumed for training: %4.3f\" % (xgb_train_time))\n",
        "print(\"Time consumed for prediction: %6.5f seconds\" % (xgb_prediction_time))"
      ],
      "execution_count": 482,
      "outputs": [
        {
          "output_type": "stream",
          "text": [
            "XGBoost's prediction accuracy is: 89.14\n",
            "Time consumed for training: 0.537\n",
            "Time consumed for prediction: 0.00600 seconds\n"
          ],
          "name": "stdout"
        }
      ]
    },
    {
      "cell_type": "code",
      "metadata": {
        "colab": {
          "base_uri": "https://localhost:8080/",
          "height": 768
        },
        "id": "eDbrZPCNJCoD",
        "outputId": "562f5b54-856b-4c3f-998b-c8aa9e885f4c"
      },
      "source": [
        "importances = pd.DataFrame({\n",
        "    'Feature': new_df.drop('price_range', axis=1).columns,\n",
        "    'Importance': xgb.feature_importances_\n",
        "})\n",
        "importances = importances.sort_values(by='Importance', ascending=False)\n",
        "importances = importances.set_index('Feature')\n",
        "importances"
      ],
      "execution_count": 483,
      "outputs": [
        {
          "output_type": "execute_result",
          "data": {
            "text/html": [
              "<div>\n",
              "<style scoped>\n",
              "    .dataframe tbody tr th:only-of-type {\n",
              "        vertical-align: middle;\n",
              "    }\n",
              "\n",
              "    .dataframe tbody tr th {\n",
              "        vertical-align: top;\n",
              "    }\n",
              "\n",
              "    .dataframe thead th {\n",
              "        text-align: right;\n",
              "    }\n",
              "</style>\n",
              "<table border=\"1\" class=\"dataframe\">\n",
              "  <thead>\n",
              "    <tr style=\"text-align: right;\">\n",
              "      <th></th>\n",
              "      <th>Importance</th>\n",
              "    </tr>\n",
              "    <tr>\n",
              "      <th>Feature</th>\n",
              "      <th></th>\n",
              "    </tr>\n",
              "  </thead>\n",
              "  <tbody>\n",
              "    <tr>\n",
              "      <th>ram</th>\n",
              "      <td>0.325332</td>\n",
              "    </tr>\n",
              "    <tr>\n",
              "      <th>battery_power</th>\n",
              "      <td>0.095110</td>\n",
              "    </tr>\n",
              "    <tr>\n",
              "      <th>pixel_area</th>\n",
              "      <td>0.092899</td>\n",
              "    </tr>\n",
              "    <tr>\n",
              "      <th>dual_sim</th>\n",
              "      <td>0.080805</td>\n",
              "    </tr>\n",
              "    <tr>\n",
              "      <th>px_height</th>\n",
              "      <td>0.048456</td>\n",
              "    </tr>\n",
              "    <tr>\n",
              "      <th>px_width</th>\n",
              "      <td>0.042753</td>\n",
              "    </tr>\n",
              "    <tr>\n",
              "      <th>mobile_wt</th>\n",
              "      <td>0.034991</td>\n",
              "    </tr>\n",
              "    <tr>\n",
              "      <th>fc</th>\n",
              "      <td>0.032179</td>\n",
              "    </tr>\n",
              "    <tr>\n",
              "      <th>int_memory</th>\n",
              "      <td>0.030437</td>\n",
              "    </tr>\n",
              "    <tr>\n",
              "      <th>m_dep</th>\n",
              "      <td>0.022903</td>\n",
              "    </tr>\n",
              "    <tr>\n",
              "      <th>four_g</th>\n",
              "      <td>0.022899</td>\n",
              "    </tr>\n",
              "    <tr>\n",
              "      <th>n_cores</th>\n",
              "      <td>0.022445</td>\n",
              "    </tr>\n",
              "    <tr>\n",
              "      <th>blue</th>\n",
              "      <td>0.021759</td>\n",
              "    </tr>\n",
              "    <tr>\n",
              "      <th>sc_w</th>\n",
              "      <td>0.020522</td>\n",
              "    </tr>\n",
              "    <tr>\n",
              "      <th>area</th>\n",
              "      <td>0.019616</td>\n",
              "    </tr>\n",
              "    <tr>\n",
              "      <th>touch_screen</th>\n",
              "      <td>0.019269</td>\n",
              "    </tr>\n",
              "    <tr>\n",
              "      <th>clock_speed</th>\n",
              "      <td>0.018192</td>\n",
              "    </tr>\n",
              "    <tr>\n",
              "      <th>talk_time</th>\n",
              "      <td>0.017306</td>\n",
              "    </tr>\n",
              "    <tr>\n",
              "      <th>sc_h</th>\n",
              "      <td>0.016040</td>\n",
              "    </tr>\n",
              "    <tr>\n",
              "      <th>pc</th>\n",
              "      <td>0.012604</td>\n",
              "    </tr>\n",
              "    <tr>\n",
              "      <th>three_g</th>\n",
              "      <td>0.003483</td>\n",
              "    </tr>\n",
              "    <tr>\n",
              "      <th>wifi</th>\n",
              "      <td>0.000000</td>\n",
              "    </tr>\n",
              "    <tr>\n",
              "      <th>3G 4G</th>\n",
              "      <td>0.000000</td>\n",
              "    </tr>\n",
              "  </tbody>\n",
              "</table>\n",
              "</div>"
            ],
            "text/plain": [
              "               Importance\n",
              "Feature                  \n",
              "ram              0.325332\n",
              "battery_power    0.095110\n",
              "pixel_area       0.092899\n",
              "dual_sim         0.080805\n",
              "px_height        0.048456\n",
              "px_width         0.042753\n",
              "mobile_wt        0.034991\n",
              "fc               0.032179\n",
              "int_memory       0.030437\n",
              "m_dep            0.022903\n",
              "four_g           0.022899\n",
              "n_cores          0.022445\n",
              "blue             0.021759\n",
              "sc_w             0.020522\n",
              "area             0.019616\n",
              "touch_screen     0.019269\n",
              "clock_speed      0.018192\n",
              "talk_time        0.017306\n",
              "sc_h             0.016040\n",
              "pc               0.012604\n",
              "three_g          0.003483\n",
              "wifi             0.000000\n",
              "3G 4G            0.000000"
            ]
          },
          "metadata": {
            "tags": []
          },
          "execution_count": 483
        }
      ]
    },
    {
      "cell_type": "code",
      "metadata": {
        "id": "5Q3A6-7PKKNo"
      },
      "source": [
        ""
      ],
      "execution_count": 483,
      "outputs": []
    },
    {
      "cell_type": "code",
      "metadata": {
        "colab": {
          "base_uri": "https://localhost:8080/"
        },
        "id": "PEui8jvQZS1K",
        "outputId": "b648d909-8aaa-4c42-ad7c-ba803f762dfd"
      },
      "source": [
        "# for categorical response and categorical predictor\n",
        "\n",
        "from sklearn.feature_selection import SelectKBest\n",
        "from sklearn.feature_selection import chi2\n",
        "\n",
        "\n",
        "# data = pd.read_csv(\"D://Blogs//train.csv\")\n",
        "X = new_df[['blue','dual_sim','four_g','three_g','3G 4G', 'touch_screen', 'n_cores','wifi']]  #independent columns\n",
        "y = new_df['price_range']    #target column i.e price range\n",
        "#apply SelectKBest class to extract top 10 best features\n",
        "bestfeatures = SelectKBest(score_func=chi2, k='all')\n",
        "fit = bestfeatures.fit(X,y)\n",
        "dfscores = pd.DataFrame(fit.scores_)\n",
        "dfcolumns = pd.DataFrame(X.columns)\n",
        "#concat two dataframes for better visualization \n",
        "featureScores = pd.concat([dfcolumns,dfscores],axis=1)\n",
        "featureScores.columns = ['Specs','Score']\n",
        "print(featureScores.nlargest(21,'Score')) "
      ],
      "execution_count": 484,
      "outputs": [
        {
          "output_type": "stream",
          "text": [
            "          Specs     Score\n",
            "6       n_cores  8.224569\n",
            "5  touch_screen  2.000355\n",
            "2        four_g  1.853379\n",
            "1      dual_sim  0.600599\n",
            "0          blue  0.479060\n",
            "7          wifi  0.403716\n",
            "3       three_g  0.352030\n",
            "4         3G 4G  0.352030\n"
          ],
          "name": "stdout"
        }
      ]
    },
    {
      "cell_type": "code",
      "metadata": {
        "colab": {
          "base_uri": "https://localhost:8080/"
        },
        "id": "L1EHr7buZ6-I",
        "outputId": "df5ce960-9ad4-4ddc-d7eb-64e731505af1"
      },
      "source": [
        "new_df[continuous_variables].columns"
      ],
      "execution_count": 485,
      "outputs": [
        {
          "output_type": "execute_result",
          "data": {
            "text/plain": [
              "Index(['battery_power', 'clock_speed', 'fc', 'int_memory', 'm_dep',\n",
              "       'mobile_wt', 'pc', 'px_height', 'px_width', 'ram', 'sc_h', 'sc_w',\n",
              "       'talk_time', 'price_range'],\n",
              "      dtype='object')"
            ]
          },
          "metadata": {
            "tags": []
          },
          "execution_count": 485
        }
      ]
    },
    {
      "cell_type": "code",
      "metadata": {
        "colab": {
          "base_uri": "https://localhost:8080/"
        },
        "id": "-m5w9apuacJH",
        "outputId": "92e9c264-d055-467c-a2fc-dcc3298c2552"
      },
      "source": [
        "new_df.columns"
      ],
      "execution_count": 486,
      "outputs": [
        {
          "output_type": "execute_result",
          "data": {
            "text/plain": [
              "Index(['battery_power', 'blue', 'clock_speed', 'dual_sim', 'fc', 'four_g',\n",
              "       'int_memory', 'm_dep', 'mobile_wt', 'n_cores', 'pc', 'px_height',\n",
              "       'px_width', 'ram', 'sc_h', 'sc_w', 'talk_time', 'three_g',\n",
              "       'touch_screen', 'wifi', 'price_range', '3G 4G', 'area', 'pixel_area'],\n",
              "      dtype='object')"
            ]
          },
          "metadata": {
            "tags": []
          },
          "execution_count": 486
        }
      ]
    },
    {
      "cell_type": "code",
      "metadata": {
        "colab": {
          "base_uri": "https://localhost:8080/"
        },
        "id": "ORJ2qDcQaO1z",
        "outputId": "3d2344cb-e66f-42fc-90d4-959e76ce8466"
      },
      "source": [
        "new_df[new_continuous_variables].columns"
      ],
      "execution_count": 487,
      "outputs": [
        {
          "output_type": "execute_result",
          "data": {
            "text/plain": [
              "Index(['battery_power', 'clock_speed', 'pc', 'fc', 'area', 'pixel_area',\n",
              "       'int_memory', 'm_dep', 'mobile_wt', 'ram', 'talk_time', 'price_range'],\n",
              "      dtype='object')"
            ]
          },
          "metadata": {
            "tags": []
          },
          "execution_count": 487
        }
      ]
    },
    {
      "cell_type": "code",
      "metadata": {
        "id": "lSrNfs0wZS1e"
      },
      "source": [
        "# For categorical response and continuous predictor\n",
        "X = new_df[['battery_power', 'clock_speed', 'fc', 'int_memory', 'm_dep',\n",
        "       'mobile_wt', 'pc', 'px_height', 'px_width', 'ram', 'sc_h', 'sc_w',\n",
        "       'talk_time','area', 'pixel_area']]\n",
        "\n",
        "\n",
        "Y = new_df['price_range']\n",
        "\n"
      ],
      "execution_count": 488,
      "outputs": []
    },
    {
      "cell_type": "code",
      "metadata": {
        "colab": {
          "base_uri": "https://localhost:8080/",
          "height": 557
        },
        "id": "3m7Z27wJZS1g",
        "outputId": "6b8bbeb0-e078-47e9-fe07-60fa48d5d70c"
      },
      "source": [
        "\n",
        "def select_features(X_train, y_train, X_test):\n",
        "\t# configure to select all features\n",
        "\tfs = SelectKBest(score_func=f_classif, k='all')\n",
        "\t# learn relationship from training data\n",
        "\tfs.fit(X_train, y_train)\n",
        "\t# transform train input data\n",
        "\tX_train_fs = fs.transform(X_train)\n",
        "\t# transform test input data\n",
        "\tX_test_fs = fs.transform(X_test)\n",
        "\treturn X_train_fs, X_test_fs, fs\n",
        " \n",
        "# load the dataset\n",
        "# X, y = load_dataset('pima-indians-diabetes.csv')\n",
        "# split into train and test sets\n",
        "X_train, X_test, y_train, y_test = train_test_split(X, y, test_size=0.33, random_state=1)\n",
        "# feature selection\n",
        "X_train_fs, X_test_fs, fs = select_features(X_train, y_train, X_test)\n",
        "# what are scores for the features\n",
        "# for i in range(len(fs.scores_)):\n",
        "# \tprint('Feature %d: %f' % (i, fs.scores_[i]))\n",
        "dfscores = pd.DataFrame(fs.scores_)\n",
        "dfcolumns = pd.DataFrame(X.columns)\n",
        "# plot the scores\n",
        "pyplot.bar([i for i in range(len(fs.scores_))], fs.scores_)\n",
        "pyplot.show()\n",
        "\n",
        "# dfscores = pd.DataFrame(fit.scores_)\n",
        "# dfcolumns = pd.DataFrame(X.columns)\n",
        "featureScores = pd.concat([dfcolumns,dfscores],axis=1)\n",
        "featureScores.columns = ['Specs','Score']\n",
        "# print(featureScores)\n",
        "print(featureScores.nlargest(21,'Score')) "
      ],
      "execution_count": 489,
      "outputs": [
        {
          "output_type": "display_data",
          "data": {
            "image/png": "[encoded data removed]",
            "text/plain": [
              "<Figure size 432x288 with 1 Axes>"
            ]
          },
          "metadata": {
            "tags": [],
            "needs_background": "light"
          }
        },
        {
          "output_type": "stream",
          "text": [
            "            Specs        Score\n",
            "9             ram  2419.443534\n",
            "0   battery_power    24.641800\n",
            "8        px_width    13.718777\n",
            "14     pixel_area    13.524039\n",
            "7       px_height    10.426165\n",
            "3      int_memory     4.066940\n",
            "4           m_dep     2.673142\n",
            "5       mobile_wt     1.980453\n",
            "12      talk_time     1.902398\n",
            "11           sc_w     1.483696\n",
            "10           sc_h     1.160781\n",
            "13           area     0.786269\n",
            "6              pc     0.636563\n",
            "1     clock_speed     0.584822\n",
            "2              fc     0.509259\n"
          ],
          "name": "stdout"
        }
      ]
    },
    {
      "cell_type": "markdown",
      "metadata": {
        "id": "PSVLf0TZvcDR"
      },
      "source": [
        "### SVM "
      ]
    },
    {
      "cell_type": "code",
      "metadata": {
        "id": "FA2SNDC6bLWE"
      },
      "source": [
        "y = new_df[\"price_range\"].values\n",
        "x_data=new_df.drop([\"price_range\"],axis=1)\n",
        "x = (x_data-np.min(x_data))/(np.max(x_data)-np.min(x_data))\n",
        "from sklearn.model_selection import train_test_split\n",
        "x_train, x_test, y_train, y_test = train_test_split(x,y,test_size = 0.2,random_state=1)"
      ],
      "execution_count": 536,
      "outputs": []
    },
    {
      "cell_type": "code",
      "metadata": {
        "colab": {
          "base_uri": "https://localhost:8080/"
        },
        "id": "5d3xZW1AvCAY",
        "outputId": "09428f94-91d2-43a1-e9d6-69c2fc89be2a"
      },
      "source": [
        "from sklearn.svm import SVC\n",
        "svm=SVC(random_state=1)\n",
        "svm.fit(x_train,y_train)\n",
        "print(\"train accuracy:\",svm.score(x_train,y_train))\n",
        "print(\"test accuracy:\",svm.score(x_test,y_test))"
      ],
      "execution_count": 537,
      "outputs": [
        {
          "output_type": "stream",
          "text": [
            "train accuracy: 0.9678030303030303\n",
            "test accuracy: 0.8232323232323232\n"
          ],
          "name": "stdout"
        }
      ]
    },
    {
      "cell_type": "code",
      "metadata": {
        "colab": {
          "base_uri": "https://localhost:8080/",
          "height": 279
        },
        "id": "e6xokRGnvsKA",
        "outputId": "36d61244-ce6a-4651-9222-84186fb067ed"
      },
      "source": [
        "from sklearn.feature_selection import SelectKBest\n",
        "from sklearn.feature_selection import f_classif\n",
        "accuracy_list_train = []\n",
        "k=np.arange(1,19,1)\n",
        "for each in k:\n",
        "    x_new = SelectKBest(f_classif, k=each).fit_transform(x_train, y_train)\n",
        "    svm.fit(x_new,y_train)\n",
        "    accuracy_list_train.append(svm.score(x_new,y_train))   \n",
        "    \n",
        "plt.plot(k,accuracy_list_train,color=\"green\",label=\"train\")\n",
        "plt.xlabel(\"k values\")\n",
        "plt.ylabel(\"train accuracy\")\n",
        "plt.legend()\n",
        "plt.show()"
      ],
      "execution_count": 538,
      "outputs": [
        {
          "output_type": "display_data",
          "data": {
            "image/png": "[encoded data removed]",
            "text/plain": [
              "<Figure size 432x288 with 1 Axes>"
            ]
          },
          "metadata": {
            "tags": [],
            "needs_background": "light"
          }
        }
      ]
    },
    {
      "cell_type": "code",
      "metadata": {
        "colab": {
          "base_uri": "https://localhost:8080/"
        },
        "id": "yaCXh8_jv_SE",
        "outputId": "4ece75c0-36b4-40d6-9325-89dd23f63ce2"
      },
      "source": [
        "d = {'best features number': k, 'train_score': accuracy_list_train}\n",
        "df = pd.DataFrame(data=d)\n",
        "print(\"max accuracy:\",df[\"train_score\"].max())\n",
        "print(\"max accuracy id:\",df[\"train_score\"].idxmax())"
      ],
      "execution_count": 539,
      "outputs": [
        {
          "output_type": "stream",
          "text": [
            "max accuracy: 0.9766414141414141\n",
            "max accuracy id: 12\n"
          ],
          "name": "stdout"
        }
      ]
    },
    {
      "cell_type": "code",
      "metadata": {
        "colab": {
          "base_uri": "https://localhost:8080/"
        },
        "id": "JRBtwcL-wRyM",
        "outputId": "4cbd6ccd-ff4e-4d18-b26d-1b527f03db37"
      },
      "source": [
        "print(\" max accuracy values: \\n\", df.iloc[13])\n"
      ],
      "execution_count": 540,
      "outputs": [
        {
          "output_type": "stream",
          "text": [
            " max accuracy values: \n",
            " best features number    14.000000\n",
            "train_score              0.970328\n",
            "Name: 13, dtype: float64\n"
          ],
          "name": "stdout"
        }
      ]
    },
    {
      "cell_type": "code",
      "metadata": {
        "colab": {
          "base_uri": "https://localhost:8080/"
        },
        "id": "bEX6M8A_wazs",
        "outputId": "2aa1e36e-6e2d-4eda-a0cb-d2e50b32c3cd"
      },
      "source": [
        "selector = SelectKBest(f_classif, k = 13)\n",
        "x_new = selector.fit_transform(x_train, y_train)\n",
        "x_new_test=selector.fit_transform(x_test,y_test)\n",
        "names_train = x_train.columns.values[selector.get_support()]\n",
        "names_test = x_test.columns.values[selector.get_support()]\n",
        "print(\"x train features:\",names_train)\n",
        "print(\"x test features:\",names_test)"
      ],
      "execution_count": 552,
      "outputs": [
        {
          "output_type": "stream",
          "text": [
            "x train features: ['battery_power' 'blue' 'fc' 'four_g' 'n_cores' 'pc' 'px_height'\n",
            " 'px_width' 'ram' 'sc_h' 'talk_time' 'area' 'pixel_area']\n",
            "x test features: ['battery_power' 'blue' 'fc' 'four_g' 'n_cores' 'pc' 'px_height'\n",
            " 'px_width' 'ram' 'sc_h' 'talk_time' 'area' 'pixel_area']\n"
          ],
          "name": "stdout"
        }
      ]
    },
    {
      "cell_type": "code",
      "metadata": {
        "id": "MqcbMRFgwmVz"
      },
      "source": [
        "from sklearn.model_selection import GridSearchCV\n",
        "\n",
        "C=[1,0.1,0.25,0.5,2,0.75]\n",
        "kernel=[\"linear\",\"rbf\"]\n",
        "gamma=[\"auto\",0.01,0.001,0.0001,1]\n",
        "decision_function_shape=[\"ovo\",\"ovr\"]"
      ],
      "execution_count": 541,
      "outputs": []
    },
    {
      "cell_type": "code",
      "metadata": {
        "colab": {
          "base_uri": "https://localhost:8080/"
        },
        "id": "f2dLnpK6xqj6",
        "outputId": "ed875470-5f70-4bc3-8706-fb5de59160b8"
      },
      "source": [
        "svm=SVC(random_state=1)\n",
        "grid_svm=GridSearchCV(estimator=svm,cv=5,param_grid=dict(kernel=kernel,C=C, gamma=gamma, decision_function_shape=decision_function_shape))\n",
        "grid_svm.fit(x_train,y_train)\n",
        "print(\"best score: \", grid_svm.best_score_)\n",
        "print(\"best param: \", grid_svm.best_params_)"
      ],
      "execution_count": 543,
      "outputs": [
        {
          "output_type": "stream",
          "text": [
            "best score:  0.9419079183803856\n",
            "best param:  {'C': 2, 'decision_function_shape': 'ovo', 'gamma': 'auto', 'kernel': 'linear'}\n"
          ],
          "name": "stdout"
        }
      ]
    },
    {
      "cell_type": "code",
      "metadata": {
        "colab": {
          "base_uri": "https://localhost:8080/",
          "height": 294
        },
        "id": "PNn0mJrixupp",
        "outputId": "fea7b568-3b83-48d9-8067-88a543c0dd51"
      },
      "source": [
        "from sklearn.model_selection import StratifiedKFold\n",
        "from yellowbrick.model_selection import CVScores\n",
        "_, ax = plt.subplots()\n",
        "\n",
        "# Create a cross-validation strategy\n",
        "cv = StratifiedKFold(10)\n",
        "\n",
        "# Create the cv score visualizer\n",
        "oz = CVScores(\n",
        "    SVC(C=2,decision_function_shape=\"ovo\",gamma=\"auto\",kernel=\"linear\",random_state=1), ax=ax, cv=cv, scoring='accuracy'\n",
        ")\n",
        "oz.fit(x_new, y_train)\n",
        "oz.poof()"
      ],
      "execution_count": 544,
      "outputs": [
        {
          "output_type": "display_data",
          "data": {
            "image/png": "[encoded data removed]",
            "text/plain": [
              "<Figure size 432x288 with 1 Axes>"
            ]
          },
          "metadata": {
            "tags": [],
            "needs_background": "light"
          }
        }
      ]
    },
    {
      "cell_type": "code",
      "metadata": {
        "id": "9r1BIrUPyAhl"
      },
      "source": [
        "svm_model=SVC(C=2,decision_function_shape=\"ovo\",gamma=\"auto\",kernel=\"linear\",random_state=1)"
      ],
      "execution_count": 545,
      "outputs": []
    },
    {
      "cell_type": "code",
      "metadata": {
        "colab": {
          "base_uri": "https://localhost:8080/"
        },
        "id": "_y4JE_RZyF3H",
        "outputId": "38bc188f-71a4-4f2d-da78-17c002365109"
      },
      "source": [
        "svm_model.fit(x_train,y_train)\n"
      ],
      "execution_count": 546,
      "outputs": [
        {
          "output_type": "execute_result",
          "data": {
            "text/plain": [
              "SVC(C=2, break_ties=False, cache_size=200, class_weight=None, coef0=0.0,\n",
              "    decision_function_shape='ovo', degree=3, gamma='auto', kernel='linear',\n",
              "    max_iter=-1, probability=False, random_state=1, shrinking=True, tol=0.001,\n",
              "    verbose=False)"
            ]
          },
          "metadata": {
            "tags": []
          },
          "execution_count": 546
        }
      ]
    },
    {
      "cell_type": "code",
      "metadata": {
        "colab": {
          "base_uri": "https://localhost:8080/"
        },
        "id": "sssAEddyyIbi",
        "outputId": "e3126028-c8ac-4f58-c694-db6a7eaa9b7f"
      },
      "source": [
        "print(\"train_accuracy:\",svm_model.score(x_train,y_train))\n",
        "print(\"test_accuracy: \", svm_model.score(x_test,y_test))"
      ],
      "execution_count": 547,
      "outputs": [
        {
          "output_type": "stream",
          "text": [
            "train_accuracy: 0.9728535353535354\n",
            "test_accuracy:  0.9444444444444444\n"
          ],
          "name": "stdout"
        }
      ]
    },
    {
      "cell_type": "code",
      "metadata": {
        "colab": {
          "base_uri": "https://localhost:8080/",
          "height": 290
        },
        "id": "rOZKSgqWyMIB",
        "outputId": "ab66280d-9adc-461e-ed50-d6db8e1c9aa9"
      },
      "source": [
        "from yellowbrick.classifier import ConfusionMatrix\n",
        "cm = ConfusionMatrix(\n",
        "    svm_model, classes=[0,1,2,3]\n",
        ")\n",
        "\n",
        "cm.fit(x_train, y_train)\n",
        "cm.score(x_test, y_test)\n",
        "\n",
        "cm.poof()"
      ],
      "execution_count": 550,
      "outputs": [
        {
          "output_type": "display_data",
          "data": {
            "image/png": "[encoded data removed]",
            "text/plain": [
              "<Figure size 432x288 with 1 Axes>"
            ]
          },
          "metadata": {
            "tags": [],
            "needs_background": "light"
          }
        }
      ]
    },
    {
      "cell_type": "code",
      "metadata": {
        "id": "9j-k2wqQtl1W"
      },
      "source": [
        "print('\\nTest results:')\n",
        "print('ROCAUC score:', roc_auc_score(y_test, svc_y_predict))\n",
        "print('Recall score:',recall_score(y_test, svc_y_predict))\n",
        "print('\\n', classification_report(y_test, svc_y_predict))"
      ],
      "execution_count": null,
      "outputs": []
    },
    {
      "cell_type": "code",
      "metadata": {
        "colab": {
          "base_uri": "https://localhost:8080/"
        },
        "id": "7sPPZixdqPlT",
        "outputId": "6e500b07-f874-4012-ded9-d6b265937e03"
      },
      "source": [
        "from sklearn.metrics import classification_report\n",
        "\n",
        "\n",
        "y_pred = svm_model.predict(x_test)\n",
        "\n",
        "print(classification_report(y_test, y_pred))"
      ],
      "execution_count": 551,
      "outputs": [
        {
          "output_type": "stream",
          "text": [
            "              precision    recall  f1-score   support\n",
            "\n",
            "           0       0.93      0.97      0.95        88\n",
            "           1       0.93      0.89      0.91        92\n",
            "           2       0.95      0.92      0.93       101\n",
            "           3       0.96      0.99      0.97       115\n",
            "\n",
            "    accuracy                           0.94       396\n",
            "   macro avg       0.94      0.94      0.94       396\n",
            "weighted avg       0.94      0.94      0.94       396\n",
            "\n"
          ],
          "name": "stdout"
        }
      ]
    },
    {
      "cell_type": "code",
      "metadata": {
        "id": "pXRMggoK0LrS"
      },
      "source": [
        "# classification_report(y_test, svm_model.predict(y_test))"
      ],
      "execution_count": 503,
      "outputs": []
    },
    {
      "cell_type": "markdown",
      "metadata": {
        "id": "TFdSGofd60fR"
      },
      "source": [
        "### Naive Bayes "
      ]
    },
    {
      "cell_type": "code",
      "metadata": {
        "id": "crMX8Eg71pYd"
      },
      "source": [
        "from sklearn.naive_bayes import MultinomialNB as nb\n",
        "from sklearn.pipeline import Pipeline\n",
        "from sklearn.preprocessing import LabelEncoder\n",
        "# from sklearn import cross_validation, metrics"
      ],
      "execution_count": 504,
      "outputs": []
    },
    {
      "cell_type": "code",
      "metadata": {
        "id": "_0lJieqk7NbO"
      },
      "source": [
        "y = new_df[\"price_range\"].values\n",
        "x_data=new_df.drop([\"price_range\"],axis=1)\n",
        "x = (x_data-np.min(x_data))/(np.max(x_data)-np.min(x_data))\n",
        "from sklearn.model_selection import train_test_split\n",
        "x_train, x_test, y_train, y_test = train_test_split(x,y,test_size = 0.2,random_state=1)"
      ],
      "execution_count": 505,
      "outputs": []
    },
    {
      "cell_type": "code",
      "metadata": {
        "id": "q_OhXcYv7teO"
      },
      "source": [
        "from sklearn.svm import SVC\n",
        "# NB=nb(random_state=1)\n",
        "# nb.fit(x_train,y_train)\n",
        "# print(\"train accuracy:\",nb.score(x_train,y_train))\n",
        "# print(\"test accuracy:\",nb.score(x_test,y_test))"
      ],
      "execution_count": 506,
      "outputs": []
    },
    {
      "cell_type": "code",
      "metadata": {
        "colab": {
          "base_uri": "https://localhost:8080/"
        },
        "id": "s9w4gXXs8a9-",
        "outputId": "3fde762f-8b38-4e76-b58d-48390028de1d"
      },
      "source": [
        "NBclassifier = Pipeline([('clf', MultinomialNB()),\n",
        "])\n",
        "NBclassifier.fit(x_train, y_train)"
      ],
      "execution_count": 507,
      "outputs": [
        {
          "output_type": "execute_result",
          "data": {
            "text/plain": [
              "Pipeline(memory=None,\n",
              "         steps=[('clf',\n",
              "                 MultinomialNB(alpha=1.0, class_prior=None, fit_prior=True))],\n",
              "         verbose=False)"
            ]
          },
          "metadata": {
            "tags": []
          },
          "execution_count": 507
        }
      ]
    },
    {
      "cell_type": "code",
      "metadata": {
        "id": "H25U0wOP8B-b"
      },
      "source": [
        "dtrain_predictions = NBclassifier.predict_proba(x_train)\n",
        "\n",
        "#Predict testing set:\n",
        "y_pred_proba = NBclassifier.predict_proba(x_test)\n",
        "\n",
        "#Perform cross-validation:\n",
        "# cv_score = cross_validation.cross_val_score(NBclassifier, x_train, y_train, cv=5, scoring='roc_auc')  "
      ],
      "execution_count": 508,
      "outputs": []
    },
    {
      "cell_type": "code",
      "metadata": {
        "id": "6zaI2pWt9GRr"
      },
      "source": [
        "X = new_df.drop([\"price_range\"], axis=1)\n",
        "y = new_df[\"price_range\"]\n",
        "\n",
        "X_train, X_test, y_train, y_test = train_test_split(X,y, test_size=0.2, random_state=42)"
      ],
      "execution_count": 509,
      "outputs": []
    },
    {
      "cell_type": "code",
      "metadata": {
        "id": "0bftPNI3amcx"
      },
      "source": [
        "from sklearn.preprocessing import RobustScaler\n",
        "\n",
        "scaler = RobustScaler()\n",
        "\n",
        "X_train = scaler.fit_transform(X_train)\n",
        "\n",
        "X_test = scaler.transform(X_test)"
      ],
      "execution_count": 510,
      "outputs": []
    },
    {
      "cell_type": "code",
      "metadata": {
        "colab": {
          "base_uri": "https://localhost:8080/"
        },
        "id": "iSVDMmfGbMzK",
        "outputId": "30eeac3e-4c7d-4593-a808-a4d476e4d9c4"
      },
      "source": [
        "# train a Gaussian Naive Bayes classifier on the training set\n",
        "from sklearn.naive_bayes import GaussianNB\n",
        "\n",
        "\n",
        "# instantiate the model\n",
        "gnb = GaussianNB()\n",
        "\n",
        "\n",
        "# fit the model\n",
        "gnb.fit(X_train, y_train)"
      ],
      "execution_count": 511,
      "outputs": [
        {
          "output_type": "execute_result",
          "data": {
            "text/plain": [
              "GaussianNB(priors=None, var_smoothing=1e-09)"
            ]
          },
          "metadata": {
            "tags": []
          },
          "execution_count": 511
        }
      ]
    },
    {
      "cell_type": "code",
      "metadata": {
        "id": "0oWZizWpbgMH"
      },
      "source": [
        "y_pred = gnb.predict(X_test)\n",
        "\n",
        "# y_pred"
      ],
      "execution_count": 512,
      "outputs": []
    },
    {
      "cell_type": "code",
      "metadata": {
        "colab": {
          "base_uri": "https://localhost:8080/"
        },
        "id": "9HQCtxLmbm-K",
        "outputId": "4fcbf754-337f-474c-f0c5-a8ef8238b648"
      },
      "source": [
        "from sklearn.metrics import accuracy_score\n",
        "\n",
        "print('Model accuracy score: {0:0.4f}'. format(accuracy_score(y_test, y_pred)))"
      ],
      "execution_count": 513,
      "outputs": [
        {
          "output_type": "stream",
          "text": [
            "Model accuracy score: 0.7904\n"
          ],
          "name": "stdout"
        }
      ]
    },
    {
      "cell_type": "code",
      "metadata": {
        "id": "5kvrltUmbx9L"
      },
      "source": [
        "y_pred_train = gnb.predict(X_train)"
      ],
      "execution_count": 514,
      "outputs": []
    },
    {
      "cell_type": "code",
      "metadata": {
        "colab": {
          "base_uri": "https://localhost:8080/"
        },
        "id": "AiKnBbANb24F",
        "outputId": "2850458f-9ef0-4dab-eba0-80ce469d19ab"
      },
      "source": [
        "print('Training-set accuracy score: {0:0.4f}'. format(accuracy_score(y_train, y_pred_train)))"
      ],
      "execution_count": 515,
      "outputs": [
        {
          "output_type": "stream",
          "text": [
            "Training-set accuracy score: 0.8125\n"
          ],
          "name": "stdout"
        }
      ]
    },
    {
      "cell_type": "code",
      "metadata": {
        "colab": {
          "base_uri": "https://localhost:8080/"
        },
        "id": "sVnta37Tb54c",
        "outputId": "47f09ec5-6533-47e5-d549-5751f881acb5"
      },
      "source": [
        "# print the scores on training and test set\n",
        "\n",
        "print('Training set score: {:.4f}'.format(gnb.score(X_train, y_train)))\n",
        "\n",
        "print('Test set score: {:.4f}'.format(gnb.score(X_test, y_test)))"
      ],
      "execution_count": 516,
      "outputs": [
        {
          "output_type": "stream",
          "text": [
            "Training set score: 0.8125\n",
            "Test set score: 0.7904\n"
          ],
          "name": "stdout"
        }
      ]
    },
    {
      "cell_type": "code",
      "metadata": {
        "colab": {
          "base_uri": "https://localhost:8080/"
        },
        "id": "BljN3ED8cgHD",
        "outputId": "017ff71a-ecca-473f-ffd6-c8fee08b1249"
      },
      "source": [
        "from sklearn.metrics import confusion_matrix\n",
        "\n",
        "cm = confusion_matrix(y_test, y_pred)\n",
        "\n",
        "print('Confusion matrix\\n\\n', cm)\n",
        "\n",
        "print('\\nTrue Positives(TP) = ', cm[0,0])\n",
        "\n",
        "print('\\nTrue Negatives(TN) = ', cm[1,1])\n",
        "\n",
        "print('\\nFalse Positives(FP) = ', cm[0,1])\n",
        "\n",
        "print('\\nFalse Negatives(FN) = ', cm[1,0])"
      ],
      "execution_count": 517,
      "outputs": [
        {
          "output_type": "stream",
          "text": [
            "Confusion matrix\n",
            "\n",
            " [[101   6   0   0]\n",
            " [  6  69  22   0]\n",
            " [  0  26  56   4]\n",
            " [  0   0  19  87]]\n",
            "\n",
            "True Positives(TP) =  101\n",
            "\n",
            "True Negatives(TN) =  69\n",
            "\n",
            "False Positives(FP) =  6\n",
            "\n",
            "False Negatives(FN) =  6\n"
          ],
          "name": "stdout"
        }
      ]
    },
    {
      "cell_type": "code",
      "metadata": {
        "colab": {
          "base_uri": "https://localhost:8080/"
        },
        "id": "1NF56zHocttl",
        "outputId": "0acbe798-a405-4c05-bd66-31256945169e"
      },
      "source": [
        "from sklearn.metrics import classification_report\n",
        "\n",
        "print(classification_report(y_test, y_pred))"
      ],
      "execution_count": 518,
      "outputs": [
        {
          "output_type": "stream",
          "text": [
            "              precision    recall  f1-score   support\n",
            "\n",
            "           0       0.94      0.94      0.94       107\n",
            "           1       0.68      0.71      0.70        97\n",
            "           2       0.58      0.65      0.61        86\n",
            "           3       0.96      0.82      0.88       106\n",
            "\n",
            "    accuracy                           0.79       396\n",
            "   macro avg       0.79      0.78      0.78       396\n",
            "weighted avg       0.80      0.79      0.80       396\n",
            "\n"
          ],
          "name": "stdout"
        }
      ]
    },
    {
      "cell_type": "code",
      "metadata": {
        "id": "Dm_mAmtTjdgw"
      },
      "source": [
        "nb_classifier = MultinomialNB()\n"
      ],
      "execution_count": 519,
      "outputs": []
    },
    {
      "cell_type": "code",
      "metadata": {
        "colab": {
          "base_uri": "https://localhost:8080/"
        },
        "id": "iPYdXgh9c4lA",
        "outputId": "ace8179d-22a0-4184-bf44-8b8b0eb3e28e"
      },
      "source": [
        "k_fold = StratifiedKFold(n_splits = 10)\n",
        "scores = cross_val_score(nb_classifier, X_train, y_train, cv = k_fold)\n",
        "print(\"mean:\" , scores.mean(), \"std:\", scores.std())"
      ],
      "execution_count": 520,
      "outputs": [
        {
          "output_type": "stream",
          "text": [
            "mean: nan std: nan\n"
          ],
          "name": "stdout"
        },
        {
          "output_type": "stream",
          "text": [
            "/usr/local/lib/python3.7/dist-packages/sklearn/model_selection/_validation.py:536: FitFailedWarning:\n",
            "\n",
            "Estimator fit failed. The score on this train-test partition for these parameters will be set to nan. Details: \n",
            "ValueError: Negative values in data passed to MultinomialNB (input X)\n",
            "\n",
            "\n",
            "/usr/local/lib/python3.7/dist-packages/sklearn/model_selection/_validation.py:536: FitFailedWarning:\n",
            "\n",
            "Estimator fit failed. The score on this train-test partition for these parameters will be set to nan. Details: \n",
            "ValueError: Negative values in data passed to MultinomialNB (input X)\n",
            "\n",
            "\n",
            "/usr/local/lib/python3.7/dist-packages/sklearn/model_selection/_validation.py:536: FitFailedWarning:\n",
            "\n",
            "Estimator fit failed. The score on this train-test partition for these parameters will be set to nan. Details: \n",
            "ValueError: Negative values in data passed to MultinomialNB (input X)\n",
            "\n",
            "\n",
            "/usr/local/lib/python3.7/dist-packages/sklearn/model_selection/_validation.py:536: FitFailedWarning:\n",
            "\n",
            "Estimator fit failed. The score on this train-test partition for these parameters will be set to nan. Details: \n",
            "ValueError: Negative values in data passed to MultinomialNB (input X)\n",
            "\n",
            "\n",
            "/usr/local/lib/python3.7/dist-packages/sklearn/model_selection/_validation.py:536: FitFailedWarning:\n",
            "\n",
            "Estimator fit failed. The score on this train-test partition for these parameters will be set to nan. Details: \n",
            "ValueError: Negative values in data passed to MultinomialNB (input X)\n",
            "\n",
            "\n",
            "/usr/local/lib/python3.7/dist-packages/sklearn/model_selection/_validation.py:536: FitFailedWarning:\n",
            "\n",
            "Estimator fit failed. The score on this train-test partition for these parameters will be set to nan. Details: \n",
            "ValueError: Negative values in data passed to MultinomialNB (input X)\n",
            "\n",
            "\n",
            "/usr/local/lib/python3.7/dist-packages/sklearn/model_selection/_validation.py:536: FitFailedWarning:\n",
            "\n",
            "Estimator fit failed. The score on this train-test partition for these parameters will be set to nan. Details: \n",
            "ValueError: Negative values in data passed to MultinomialNB (input X)\n",
            "\n",
            "\n",
            "/usr/local/lib/python3.7/dist-packages/sklearn/model_selection/_validation.py:536: FitFailedWarning:\n",
            "\n",
            "Estimator fit failed. The score on this train-test partition for these parameters will be set to nan. Details: \n",
            "ValueError: Negative values in data passed to MultinomialNB (input X)\n",
            "\n",
            "\n",
            "/usr/local/lib/python3.7/dist-packages/sklearn/model_selection/_validation.py:536: FitFailedWarning:\n",
            "\n",
            "Estimator fit failed. The score on this train-test partition for these parameters will be set to nan. Details: \n",
            "ValueError: Negative values in data passed to MultinomialNB (input X)\n",
            "\n",
            "\n",
            "/usr/local/lib/python3.7/dist-packages/sklearn/model_selection/_validation.py:536: FitFailedWarning:\n",
            "\n",
            "Estimator fit failed. The score on this train-test partition for these parameters will be set to nan. Details: \n",
            "ValueError: Negative values in data passed to MultinomialNB (input X)\n",
            "\n",
            "\n"
          ],
          "name": "stderr"
        }
      ]
    },
    {
      "cell_type": "code",
      "metadata": {
        "id": "b0fDB--5h2SU"
      },
      "source": [
        ""
      ],
      "execution_count": 520,
      "outputs": []
    }
  ]
}